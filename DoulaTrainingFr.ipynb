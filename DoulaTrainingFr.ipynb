{
 "cells": [
  {
   "cell_type": "markdown",
   "metadata": {},
   "source": [
    "# PHE   Data Science Module — Jupyter Notebooks, Doula Training, and Framingham Heart Study Data Set\n",
    "\n",
    "---\n",
    "\n",
    "![](DSHeaderMillsLarge.png)\n",
    "\n",
    "\n",
    "### Professors Susan Wang and Catrina Jaime\n",
    "\n",
    "In this module we encounter our first Jupyter Notebook and learn the basics of the structure a Jupyter Notebook and how to work with it. Further description needed ..."
   ]
  },
  {
   "cell_type": "markdown",
   "metadata": {},
   "source": [
    "---\n",
    "## Introduction to Jupyter Notebooks "
   ]
  },
  {
   "cell_type": "markdown",
   "metadata": {},
   "source": [
    "In this module we are using a document called a **Jupyter Notebook** which is an *interactive* document containing text, code, visualizations, and more.  In this section, we introduce some of the building blocks of a notebook and how to work with it.\n",
    "\n",
    "Now click anywhere near this paragraph.  What you see is a rectangle box around this paragraph.  This rectangle is called a **cell**. A notebook is composed of two kinds of cells: **markdown** and **code**. "
   ]
  },
  {
   "cell_type": "markdown",
   "metadata": {},
   "source": [
    "#### Markdown Cells"
   ]
  },
  {
   "cell_type": "markdown",
   "metadata": {},
   "source": [
    "A markdown cell, such as this one, contains text. You can edit a Markdown cell by clicking it twice. Text in Markdown cells is written in Markdown, a formatting syntax for plain text, so you may see some funky symbols when you edit a text cell. Once you've made your changes, you can exit text-editing mode by running the cell. To run (or execute the commands) in a cell, you first select it, and\n",
    "\n",
    "press Ctrl+Enter (run the cell and stay at the same cell) or\n",
    "click the Run button in the toolbar at the top of the screen (run the cell and go to the next cell)\n",
    "Now try edit and then run the following Markdown cell:"
   ]
  },
  {
   "cell_type": "markdown",
   "metadata": {},
   "source": [
    "My favorite animal is (you fill in this part)"
   ]
  },
  {
   "cell_type": "markdown",
   "metadata": {},
   "source": [
    "#### Code Cells"
   ]
  },
  {
   "cell_type": "markdown",
   "metadata": {},
   "source": [
    "A **code cell**, such as the next one, contains commands in Python, a programming language that we will be using for the data science module. A code cell has `In [ ]:` to the left of the cell (that is how you distinguish a code cell).  \n",
    "   \n",
    "If a code cell is running, you will see an asterisk `*` appear in the square brackets to the left of the cell. Once the cell has finished running, a number (which will increment) will replace the asterisk and any output from the code will appear under the cell. The output of a code cell may include computations, tables, graphs, or other visualizations."
   ]
  },
  {
   "cell_type": "code",
   "execution_count": 1,
   "metadata": {},
   "outputs": [
    {
     "name": "stdout",
     "output_type": "stream",
     "text": [
      "Welcome to Data Science PHE Module!\n"
     ]
    }
   ],
   "source": [
    "# This is a code cell; run this cell (Ctrl+Enter)\n",
    "print('Welcome to Data Science PHE Module!')"
   ]
  },
  {
   "cell_type": "markdown",
   "metadata": {},
   "source": [
    "You'll notice that many code cells contain lines of greenish-blue italic text that start with a `#`. These are comments. Comments often contain helpful information about what the code does or what you are supposed to do in the cell. The leading # tells the computer to ignore them."
   ]
  },
  {
   "cell_type": "markdown",
   "metadata": {},
   "source": [
    "To edit a Code cell, just click at the location where edit should take place and start typing/editing. \n",
    "\n",
    "Now try edit and then run the following Code cell:"
   ]
  },
  {
   "cell_type": "code",
   "execution_count": 2,
   "metadata": {},
   "outputs": [
    {
     "name": "stdout",
     "output_type": "stream",
     "text": [
      " ... \n"
     ]
    }
   ],
   "source": [
    "# replace ... with your personal message, then run the cell (Ctrl+Enter)\n",
    "print(' ... ')"
   ]
  },
  {
   "cell_type": "markdown",
   "metadata": {},
   "source": [
    "#### Saving and Loading"
   ]
  },
  {
   "cell_type": "markdown",
   "metadata": {},
   "source": [
    "Your notebook can record all of your text and code edits, as well as any tables and graphs you generate or calculations you make, which we will see in our next Jupyter Notebook. You can save the notebook in its current state by clicking <code>Ctrl+S</code>, clicking the floppy disc icon in the toolbar at the top, left of the page, or by going to the File menu and selecting \"Save and Checkpoint\".\n",
    "\n",
    "The next time you open the notebook, it will look the same as when you last saved it. \n",
    "\n",
    "**Note**: after loading a notebook you will see all the outputs (tables, graphs, computation, widgets, etc) from your last session, but you won't be able to use any libraries you imported, variables you assigned, functions you defined, or widgets you created. To get back to your previous state, you will need to *re-run* the cells where you imported the libraries, defined the variables and functions. The easiest way is to select the cell where you left off work, then go to the Cell menu at the top of the screen and select \"Run All Above\"."
   ]
  },
  {
   "cell_type": "markdown",
   "metadata": {},
   "source": [
    "---\n",
    "## Doula Training Survey Data"
   ]
  },
  {
   "cell_type": "code",
   "execution_count": 3,
   "metadata": {},
   "outputs": [
    {
     "name": "stdout",
     "output_type": "stream",
     "text": [
      "Requirement already satisfied: cufflinks in c:\\programdata\\anaconda3\\lib\\site-packages (0.17.3)\n",
      "Requirement already satisfied: pandas>=0.19.2 in c:\\programdata\\anaconda3\\lib\\site-packages (from cufflinks) (1.1.3)\n",
      "Requirement already satisfied: six>=1.9.0 in c:\\programdata\\anaconda3\\lib\\site-packages (from cufflinks) (1.15.0)\n",
      "Requirement already satisfied: ipywidgets>=7.0.0 in c:\\programdata\\anaconda3\\lib\\site-packages (from cufflinks) (7.5.1)\n",
      "Requirement already satisfied: ipython>=5.3.0 in c:\\programdata\\anaconda3\\lib\\site-packages (from cufflinks) (7.19.0)\n",
      "Requirement already satisfied: plotly>=4.1.1 in c:\\programdata\\anaconda3\\lib\\site-packages (from cufflinks) (4.14.3)\n",
      "Requirement already satisfied: numpy>=1.9.2 in c:\\programdata\\anaconda3\\lib\\site-packages (from cufflinks) (1.19.2)\n",
      "Requirement already satisfied: colorlover>=0.2.1 in c:\\programdata\\anaconda3\\lib\\site-packages (from cufflinks) (0.3.0)\n",
      "Requirement already satisfied: setuptools>=34.4.1 in c:\\programdata\\anaconda3\\lib\\site-packages (from cufflinks) (50.3.1.post20201107)\n",
      "Requirement already satisfied: python-dateutil>=2.7.3 in c:\\programdata\\anaconda3\\lib\\site-packages (from pandas>=0.19.2->cufflinks) (2.8.1)\n",
      "Requirement already satisfied: pytz>=2017.2 in c:\\programdata\\anaconda3\\lib\\site-packages (from pandas>=0.19.2->cufflinks) (2020.1)\n",
      "Requirement already satisfied: nbformat>=4.2.0 in c:\\programdata\\anaconda3\\lib\\site-packages (from ipywidgets>=7.0.0->cufflinks) (5.0.8)\n",
      "Requirement already satisfied: ipykernel>=4.5.1 in c:\\programdata\\anaconda3\\lib\\site-packages (from ipywidgets>=7.0.0->cufflinks) (5.3.4)\n",
      "Requirement already satisfied: traitlets>=4.3.1 in c:\\programdata\\anaconda3\\lib\\site-packages (from ipywidgets>=7.0.0->cufflinks) (5.0.5)\n",
      "Requirement already satisfied: widgetsnbextension~=3.5.0 in c:\\programdata\\anaconda3\\lib\\site-packages (from ipywidgets>=7.0.0->cufflinks) (3.5.1)\n",
      "Requirement already satisfied: backcall in c:\\programdata\\anaconda3\\lib\\site-packages (from ipython>=5.3.0->cufflinks) (0.2.0)\n",
      "Requirement already satisfied: pygments in c:\\programdata\\anaconda3\\lib\\site-packages (from ipython>=5.3.0->cufflinks) (2.7.2)\n",
      "Requirement already satisfied: decorator in c:\\programdata\\anaconda3\\lib\\site-packages (from ipython>=5.3.0->cufflinks) (4.4.2)\n",
      "Requirement already satisfied: prompt-toolkit!=3.0.0,!=3.0.1,<3.1.0,>=2.0.0 in c:\\programdata\\anaconda3\\lib\\site-packages (from ipython>=5.3.0->cufflinks) (3.0.8)\n",
      "Requirement already satisfied: jedi>=0.10 in c:\\programdata\\anaconda3\\lib\\site-packages (from ipython>=5.3.0->cufflinks) (0.17.1)\n",
      "Requirement already satisfied: colorama; sys_platform == \"win32\" in c:\\programdata\\anaconda3\\lib\\site-packages (from ipython>=5.3.0->cufflinks) (0.4.4)\n",
      "Requirement already satisfied: pickleshare in c:\\programdata\\anaconda3\\lib\\site-packages (from ipython>=5.3.0->cufflinks) (0.7.5)\n",
      "Requirement already satisfied: retrying>=1.3.3 in c:\\programdata\\anaconda3\\lib\\site-packages (from plotly>=4.1.1->cufflinks) (1.3.3)\n",
      "Requirement already satisfied: jsonschema!=2.5.0,>=2.4 in c:\\programdata\\anaconda3\\lib\\site-packages (from nbformat>=4.2.0->ipywidgets>=7.0.0->cufflinks) (3.2.0)\n",
      "Requirement already satisfied: ipython-genutils in c:\\programdata\\anaconda3\\lib\\site-packages (from nbformat>=4.2.0->ipywidgets>=7.0.0->cufflinks) (0.2.0)\n",
      "Requirement already satisfied: jupyter-core in c:\\programdata\\anaconda3\\lib\\site-packages (from nbformat>=4.2.0->ipywidgets>=7.0.0->cufflinks) (4.6.3)\n",
      "Requirement already satisfied: jupyter-client in c:\\programdata\\anaconda3\\lib\\site-packages (from ipykernel>=4.5.1->ipywidgets>=7.0.0->cufflinks) (6.1.7)\n",
      "Requirement already satisfied: tornado>=4.2 in c:\\programdata\\anaconda3\\lib\\site-packages (from ipykernel>=4.5.1->ipywidgets>=7.0.0->cufflinks) (6.0.4)\n",
      "Requirement already satisfied: notebook>=4.4.1 in c:\\programdata\\anaconda3\\lib\\site-packages (from widgetsnbextension~=3.5.0->ipywidgets>=7.0.0->cufflinks) (6.1.4)\n",
      "Requirement already satisfied: wcwidth in c:\\programdata\\anaconda3\\lib\\site-packages (from prompt-toolkit!=3.0.0,!=3.0.1,<3.1.0,>=2.0.0->ipython>=5.3.0->cufflinks) (0.2.5)\n",
      "Requirement already satisfied: parso<0.8.0,>=0.7.0 in c:\\programdata\\anaconda3\\lib\\site-packages (from jedi>=0.10->ipython>=5.3.0->cufflinks) (0.7.0)\n",
      "Requirement already satisfied: pyrsistent>=0.14.0 in c:\\programdata\\anaconda3\\lib\\site-packages (from jsonschema!=2.5.0,>=2.4->nbformat>=4.2.0->ipywidgets>=7.0.0->cufflinks) (0.17.3)\n",
      "Requirement already satisfied: attrs>=17.4.0 in c:\\programdata\\anaconda3\\lib\\site-packages (from jsonschema!=2.5.0,>=2.4->nbformat>=4.2.0->ipywidgets>=7.0.0->cufflinks) (20.3.0)\n",
      "Requirement already satisfied: pywin32>=1.0; sys_platform == \"win32\" in c:\\programdata\\anaconda3\\lib\\site-packages (from jupyter-core->nbformat>=4.2.0->ipywidgets>=7.0.0->cufflinks) (227)\n",
      "Requirement already satisfied: pyzmq>=13 in c:\\programdata\\anaconda3\\lib\\site-packages (from jupyter-client->ipykernel>=4.5.1->ipywidgets>=7.0.0->cufflinks) (19.0.2)\n",
      "Requirement already satisfied: Send2Trash in c:\\programdata\\anaconda3\\lib\\site-packages (from notebook>=4.4.1->widgetsnbextension~=3.5.0->ipywidgets>=7.0.0->cufflinks) (1.5.0)\n",
      "Requirement already satisfied: jinja2 in c:\\programdata\\anaconda3\\lib\\site-packages (from notebook>=4.4.1->widgetsnbextension~=3.5.0->ipywidgets>=7.0.0->cufflinks) (2.11.2)\n",
      "Requirement already satisfied: nbconvert in c:\\programdata\\anaconda3\\lib\\site-packages (from notebook>=4.4.1->widgetsnbextension~=3.5.0->ipywidgets>=7.0.0->cufflinks) (6.0.7)\n",
      "Requirement already satisfied: terminado>=0.8.3 in c:\\programdata\\anaconda3\\lib\\site-packages (from notebook>=4.4.1->widgetsnbextension~=3.5.0->ipywidgets>=7.0.0->cufflinks) (0.9.1)\n",
      "Requirement already satisfied: prometheus-client in c:\\programdata\\anaconda3\\lib\\site-packages (from notebook>=4.4.1->widgetsnbextension~=3.5.0->ipywidgets>=7.0.0->cufflinks) (0.8.0)\n",
      "Requirement already satisfied: argon2-cffi in c:\\programdata\\anaconda3\\lib\\site-packages (from notebook>=4.4.1->widgetsnbextension~=3.5.0->ipywidgets>=7.0.0->cufflinks) (20.1.0)\n",
      "Requirement already satisfied: MarkupSafe>=0.23 in c:\\programdata\\anaconda3\\lib\\site-packages (from jinja2->notebook>=4.4.1->widgetsnbextension~=3.5.0->ipywidgets>=7.0.0->cufflinks) (1.1.1)\n",
      "Requirement already satisfied: nbclient<0.6.0,>=0.5.0 in c:\\programdata\\anaconda3\\lib\\site-packages (from nbconvert->notebook>=4.4.1->widgetsnbextension~=3.5.0->ipywidgets>=7.0.0->cufflinks) (0.5.1)\n",
      "Requirement already satisfied: jupyterlab-pygments in c:\\programdata\\anaconda3\\lib\\site-packages (from nbconvert->notebook>=4.4.1->widgetsnbextension~=3.5.0->ipywidgets>=7.0.0->cufflinks) (0.1.2)\n",
      "Requirement already satisfied: mistune<2,>=0.8.1 in c:\\programdata\\anaconda3\\lib\\site-packages (from nbconvert->notebook>=4.4.1->widgetsnbextension~=3.5.0->ipywidgets>=7.0.0->cufflinks) (0.8.4)\n",
      "Requirement already satisfied: pandocfilters>=1.4.1 in c:\\programdata\\anaconda3\\lib\\site-packages (from nbconvert->notebook>=4.4.1->widgetsnbextension~=3.5.0->ipywidgets>=7.0.0->cufflinks) (1.4.3)\n",
      "Requirement already satisfied: entrypoints>=0.2.2 in c:\\programdata\\anaconda3\\lib\\site-packages (from nbconvert->notebook>=4.4.1->widgetsnbextension~=3.5.0->ipywidgets>=7.0.0->cufflinks) (0.3)\n",
      "Requirement already satisfied: bleach in c:\\programdata\\anaconda3\\lib\\site-packages (from nbconvert->notebook>=4.4.1->widgetsnbextension~=3.5.0->ipywidgets>=7.0.0->cufflinks) (3.2.1)\n",
      "Requirement already satisfied: testpath in c:\\programdata\\anaconda3\\lib\\site-packages (from nbconvert->notebook>=4.4.1->widgetsnbextension~=3.5.0->ipywidgets>=7.0.0->cufflinks) (0.4.4)\n",
      "Requirement already satisfied: defusedxml in c:\\programdata\\anaconda3\\lib\\site-packages (from nbconvert->notebook>=4.4.1->widgetsnbextension~=3.5.0->ipywidgets>=7.0.0->cufflinks) (0.6.0)\n",
      "Requirement already satisfied: pywinpty>=0.5 in c:\\programdata\\anaconda3\\lib\\site-packages (from terminado>=0.8.3->notebook>=4.4.1->widgetsnbextension~=3.5.0->ipywidgets>=7.0.0->cufflinks) (0.5.7)\n",
      "Requirement already satisfied: cffi>=1.0.0 in c:\\programdata\\anaconda3\\lib\\site-packages (from argon2-cffi->notebook>=4.4.1->widgetsnbextension~=3.5.0->ipywidgets>=7.0.0->cufflinks) (1.14.3)\n",
      "Requirement already satisfied: nest-asyncio in c:\\programdata\\anaconda3\\lib\\site-packages (from nbclient<0.6.0,>=0.5.0->nbconvert->notebook>=4.4.1->widgetsnbextension~=3.5.0->ipywidgets>=7.0.0->cufflinks) (1.4.2)\n",
      "Requirement already satisfied: async-generator in c:\\programdata\\anaconda3\\lib\\site-packages (from nbclient<0.6.0,>=0.5.0->nbconvert->notebook>=4.4.1->widgetsnbextension~=3.5.0->ipywidgets>=7.0.0->cufflinks) (1.10)\n",
      "Requirement already satisfied: webencodings in c:\\programdata\\anaconda3\\lib\\site-packages (from bleach->nbconvert->notebook>=4.4.1->widgetsnbextension~=3.5.0->ipywidgets>=7.0.0->cufflinks) (0.5.1)\n",
      "Requirement already satisfied: packaging in c:\\programdata\\anaconda3\\lib\\site-packages (from bleach->nbconvert->notebook>=4.4.1->widgetsnbextension~=3.5.0->ipywidgets>=7.0.0->cufflinks) (20.4)\n",
      "Requirement already satisfied: pycparser in c:\\programdata\\anaconda3\\lib\\site-packages (from cffi>=1.0.0->argon2-cffi->notebook>=4.4.1->widgetsnbextension~=3.5.0->ipywidgets>=7.0.0->cufflinks) (2.20)\n",
      "Requirement already satisfied: pyparsing>=2.0.2 in c:\\programdata\\anaconda3\\lib\\site-packages (from packaging->bleach->nbconvert->notebook>=4.4.1->widgetsnbextension~=3.5.0->ipywidgets>=7.0.0->cufflinks) (2.4.7)\n",
      "4.14.3\n"
     ]
    },
    {
     "data": {
      "text/html": [
       "        <script type=\"text/javascript\">\n",
       "        window.PlotlyConfig = {MathJaxConfig: 'local'};\n",
       "        if (window.MathJax) {MathJax.Hub.Config({SVG: {font: \"STIX-Web\"}});}\n",
       "        if (typeof require !== 'undefined') {\n",
       "        require.undef(\"plotly\");\n",
       "        requirejs.config({\n",
       "            paths: {\n",
       "                'plotly': ['https://cdn.plot.ly/plotly-latest.min']\n",
       "            }\n",
       "        });\n",
       "        require(['plotly'], function(Plotly) {\n",
       "            window._Plotly = Plotly;\n",
       "        });\n",
       "        }\n",
       "        </script>\n",
       "        "
      ]
     },
     "metadata": {},
     "output_type": "display_data"
    },
    {
     "data": {
      "text/html": [
       "        <script type=\"text/javascript\">\n",
       "        window.PlotlyConfig = {MathJaxConfig: 'local'};\n",
       "        if (window.MathJax) {MathJax.Hub.Config({SVG: {font: \"STIX-Web\"}});}\n",
       "        if (typeof require !== 'undefined') {\n",
       "        require.undef(\"plotly\");\n",
       "        requirejs.config({\n",
       "            paths: {\n",
       "                'plotly': ['https://cdn.plot.ly/plotly-latest.min']\n",
       "            }\n",
       "        });\n",
       "        require(['plotly'], function(Plotly) {\n",
       "            window._Plotly = Plotly;\n",
       "        });\n",
       "        }\n",
       "        </script>\n",
       "        "
      ]
     },
     "metadata": {},
     "output_type": "display_data"
    }
   ],
   "source": [
    "import pandas as pd\n",
    "import pylab\n",
    "import matplotlib as mpl\n",
    "import matplotlib.pyplot as plt \n",
    "%matplotlib inline  \n",
    "# display charts inline\n",
    "mpl.style.use('ggplot') # optional: for ggplot-like style\n",
    "import seaborn as sns\n",
    "# For widgets to work\n",
    "import ipywidgets as widgets\n",
    "from ipywidgets import interact, interactive, fixed, interact_manual \n",
    "from IPython.display import Image, display\n",
    "import collections\n",
    "#import graphs_survey\n",
    "plt.style.use('fivethirtyeight')\n",
    "\n",
    "#You may need to insatll \n",
    "#!pip install plotly\n",
    "!pip install cufflinks \n",
    "\n",
    "from plotly import __version__\n",
    "from plotly.offline import download_plotlyjs, init_notebook_mode, plot, iplot\n",
    "print(__version__) # requires version >= 1.9.0\n",
    "\n",
    "import cufflinks as cf\n",
    "init_notebook_mode(connected=True)\n",
    "cf.go_offline()"
   ]
  },
  {
   "cell_type": "markdown",
   "metadata": {},
   "source": [
    "## Reading in the Survey Data"
   ]
  },
  {
   "cell_type": "code",
   "execution_count": 4,
   "metadata": {},
   "outputs": [
    {
     "data": {
      "text/html": [
       "<div>\n",
       "<style scoped>\n",
       "    .dataframe tbody tr th:only-of-type {\n",
       "        vertical-align: middle;\n",
       "    }\n",
       "\n",
       "    .dataframe tbody tr th {\n",
       "        vertical-align: top;\n",
       "    }\n",
       "\n",
       "    .dataframe thead th {\n",
       "        text-align: right;\n",
       "    }\n",
       "</style>\n",
       "<table border=\"1\" class=\"dataframe\">\n",
       "  <thead>\n",
       "    <tr style=\"text-align: right;\">\n",
       "      <th></th>\n",
       "      <th>Timestamp</th>\n",
       "      <th>Mills Banner ID:</th>\n",
       "      <th>1.1) I feel I have the knowledge to provide doula services at a hospital, birth center, or home setting.</th>\n",
       "      <th>1.2) I feel this doula training will provide me with a beneficial skill set.</th>\n",
       "      <th>1.3) I would recommend doula training to other students at Mills.</th>\n",
       "      <th>1.4) I believe this doula training will empower me to support my community.</th>\n",
       "      <th>2.1) Communicate with a pregnant person and their family about what they can expect during a pregnancy, labor, childbirth, postpartum period, abortion procedure, or similar reproductive experience.</th>\n",
       "      <th>2.2) Communicate with a family about what they can expect during an adoption or fostering process.</th>\n",
       "      <th>2.3) Communicate with someone about their thoughts relating to reproductive processes.</th>\n",
       "      <th>2.4) Provide effective physical comfort measures to someone in labor.</th>\n",
       "      <th>...</th>\n",
       "      <th>Why did you decide to enroll in this course?</th>\n",
       "      <th>What knowledge and skills do you want to learn or gain from taking this course?</th>\n",
       "      <th>What interest would you have in an internship opportunity after completing this course?</th>\n",
       "      <th>How do you think you will apply what you learned in this course in the future?</th>\n",
       "      <th>Current Major/Degree in progress:</th>\n",
       "      <th>What is your age?</th>\n",
       "      <th>4.1) What is your class standing?</th>\n",
       "      <th>4.2) How do you identify your race/ethnicity? (Check all that apply)</th>\n",
       "      <th>How do you describe yourself? (Check all that apply)</th>\n",
       "      <th>Which of the following best describes your feelings surrounding your sexual orientation?</th>\n",
       "    </tr>\n",
       "  </thead>\n",
       "  <tbody>\n",
       "    <tr>\n",
       "      <th>0</th>\n",
       "      <td>2020-10-11 19:13:00.312</td>\n",
       "      <td>B00502608</td>\n",
       "      <td>Strongly disagree</td>\n",
       "      <td>Strongly agree</td>\n",
       "      <td>Strongly agree</td>\n",
       "      <td>Strongly agree</td>\n",
       "      <td>Somewhat confident</td>\n",
       "      <td>Not at all confident</td>\n",
       "      <td>Very confident</td>\n",
       "      <td>Not at all confident</td>\n",
       "      <td>...</td>\n",
       "      <td>I have wanted to work directly with laboring p...</td>\n",
       "      <td>- How to support families physically\\n- Cultur...</td>\n",
       "      <td>Big interest</td>\n",
       "      <td>I will fight for legislation that recognizes d...</td>\n",
       "      <td>Liberal Studies</td>\n",
       "      <td>NaN</td>\n",
       "      <td>First-Year</td>\n",
       "      <td>White or Caucasian</td>\n",
       "      <td>Binary - female, Non-Binary</td>\n",
       "      <td>Queer</td>\n",
       "    </tr>\n",
       "    <tr>\n",
       "      <th>1</th>\n",
       "      <td>2020-10-11 19:17:39.718</td>\n",
       "      <td>B00495546</td>\n",
       "      <td>Strongly disagree</td>\n",
       "      <td>Strongly agree</td>\n",
       "      <td>Agree</td>\n",
       "      <td>Strongly agree</td>\n",
       "      <td>A little bit confident</td>\n",
       "      <td>Very confident</td>\n",
       "      <td>Very confident</td>\n",
       "      <td>Not at all confident</td>\n",
       "      <td>...</td>\n",
       "      <td>I enrolled in this course, because I want to b...</td>\n",
       "      <td>I want to gain skills that will make me more c...</td>\n",
       "      <td>I would be 100% interested.</td>\n",
       "      <td>I hope to be working closely with mothers in a...</td>\n",
       "      <td>B.A. Environmental Science</td>\n",
       "      <td>21.0</td>\n",
       "      <td>Sophomore</td>\n",
       "      <td>Hispanic or Latinx</td>\n",
       "      <td>Binary - female</td>\n",
       "      <td>Pansexual</td>\n",
       "    </tr>\n",
       "  </tbody>\n",
       "</table>\n",
       "<p>2 rows × 30 columns</p>\n",
       "</div>"
      ],
      "text/plain": [
       "                Timestamp Mills Banner ID:  \\\n",
       "0 2020-10-11 19:13:00.312        B00502608   \n",
       "1 2020-10-11 19:17:39.718        B00495546   \n",
       "\n",
       "  1.1) I feel I have the knowledge to provide doula services at a hospital, birth center, or home setting.  \\\n",
       "0                                  Strongly disagree                                                         \n",
       "1                                  Strongly disagree                                                         \n",
       "\n",
       "  1.2) I feel this doula training will provide me with a beneficial skill set.  \\\n",
       "0                                     Strongly agree                             \n",
       "1                                     Strongly agree                             \n",
       "\n",
       "  1.3) I would recommend doula training to other students at Mills.  \\\n",
       "0                                     Strongly agree                  \n",
       "1                                              Agree                  \n",
       "\n",
       "  1.4) I believe this doula training will empower me to support my community.  \\\n",
       "0                                     Strongly agree                            \n",
       "1                                     Strongly agree                            \n",
       "\n",
       "  2.1) Communicate with a pregnant person and their family about what they can expect during a pregnancy, labor, childbirth, postpartum period, abortion procedure, or similar reproductive experience.  \\\n",
       "0                                 Somewhat confident                                                                                                                                                      \n",
       "1                             A little bit confident                                                                                                                                                      \n",
       "\n",
       "  2.2) Communicate with a family about what they can expect during an adoption or fostering process.  \\\n",
       "0                               Not at all confident                                                   \n",
       "1                                     Very confident                                                   \n",
       "\n",
       "  2.3) Communicate with someone about their thoughts relating to reproductive processes.  \\\n",
       "0                                     Very confident                                       \n",
       "1                                     Very confident                                       \n",
       "\n",
       "  2.4) Provide effective physical comfort measures to someone in labor.  ...  \\\n",
       "0                               Not at all confident                     ...   \n",
       "1                               Not at all confident                     ...   \n",
       "\n",
       "        Why did you decide to enroll in this course?  \\\n",
       "0  I have wanted to work directly with laboring p...   \n",
       "1  I enrolled in this course, because I want to b...   \n",
       "\n",
       "  What knowledge and skills do you want to learn or gain from taking this course?  \\\n",
       "0  - How to support families physically\\n- Cultur...                                \n",
       "1  I want to gain skills that will make me more c...                                \n",
       "\n",
       "  What interest would you have in an internship opportunity after completing this course?  \\\n",
       "0                                       Big interest                                        \n",
       "1                        I would be 100% interested.                                        \n",
       "\n",
       "  How do you think you will apply what you learned in this course in the future?  \\\n",
       "0  I will fight for legislation that recognizes d...                               \n",
       "1  I hope to be working closely with mothers in a...                               \n",
       "\n",
       "  Current Major/Degree in progress: What is your age?  \\\n",
       "0                   Liberal Studies               NaN   \n",
       "1        B.A. Environmental Science              21.0   \n",
       "\n",
       "  4.1) What is your class standing?  \\\n",
       "0                        First-Year   \n",
       "1                         Sophomore   \n",
       "\n",
       "  4.2) How do you identify your race/ethnicity? (Check all that apply)  \\\n",
       "0                                 White or Caucasian                     \n",
       "1                                 Hispanic or Latinx                     \n",
       "\n",
       "  How do you describe yourself? (Check all that apply)  \\\n",
       "0                        Binary - female, Non-Binary     \n",
       "1                                    Binary - female     \n",
       "\n",
       "  Which of the following best describes your feelings surrounding your sexual orientation?  \n",
       "0                                              Queer                                        \n",
       "1                                          Pansexual                                        \n",
       "\n",
       "[2 rows x 30 columns]"
      ]
     },
     "execution_count": 4,
     "metadata": {},
     "output_type": "execute_result"
    }
   ],
   "source": [
    "pre = pd.read_excel('PHE180BSurveyDataTW10.24.20.xlsx', sheet_name='Pre_TextFile')\n",
    "post = pd.read_excel('PHE180BSurveyDataTW10.24.20.xlsx', sheet_name='Post_Textfile')\n",
    "pre.head(2)"
   ]
  },
  {
   "cell_type": "markdown",
   "metadata": {},
   "source": [
    "## Survey Questions"
   ]
  },
  {
   "cell_type": "code",
   "execution_count": 5,
   "metadata": {
    "scrolled": true
   },
   "outputs": [
    {
     "data": {
      "text/plain": [
       "['Timestamp',\n",
       " 'Mills Banner ID:',\n",
       " '1.1) I feel I have the knowledge to provide doula services at a hospital, birth center, or home setting.',\n",
       " '1.2) I feel this doula training will provide me with a beneficial skill set.',\n",
       " '1.3) I would recommend doula training to other students at Mills.',\n",
       " '1.4) I believe this doula training will empower me to support my community.',\n",
       " '2.1) Communicate with a pregnant person and their family about what they can expect during a pregnancy, labor, childbirth, postpartum period, abortion procedure, or similar reproductive experience.',\n",
       " '2.2) Communicate with a family about what they can expect during an adoption or fostering process.',\n",
       " '2.3) Communicate with someone about their thoughts relating to reproductive processes.',\n",
       " '2.4) Provide effective physical comfort measures to someone in labor.',\n",
       " '2.5) Provide effective emotional support to someone in labor.',\n",
       " '2.6) Facilitate communication between a laboring person and their healthcare team. ',\n",
       " '2.7) Advocate for a person’s needs and desires to their healthcare team during labor, childbirth, the immediate postpartum period, and abortion procedures. ',\n",
       " '2.8) Describe the benefits of doula support to others.',\n",
       " '3.1) Use what you learned in this doula training course to find employment.',\n",
       " '3.2) Look for additional opportunities, such as internships, to apply doula skillsets. ',\n",
       " '3.3) Use what you have learned in this doula training program in other public health related activities.',\n",
       " '3.4) Enroll in another Public Health & Health Equity course.',\n",
       " '3.5) Pursue a career in public health.',\n",
       " '3.6) Consider a job in public health immediately after graduation.',\n",
       " 'Why did you decide to enroll in this course?',\n",
       " 'What knowledge and skills do you want to learn or gain from taking this course?',\n",
       " 'What interest would you have in an internship opportunity after completing this course?',\n",
       " 'How do you think you will apply what you learned in this course in the future?',\n",
       " 'Current Major/Degree in progress:',\n",
       " 'What is your age?',\n",
       " '4.1) What is your class standing?',\n",
       " '4.2) How do you identify your race/ethnicity? (Check all that apply)',\n",
       " 'How do you describe yourself? (Check all that apply)',\n",
       " 'Which of the following best describes your feelings surrounding your sexual orientation?']"
      ]
     },
     "execution_count": 5,
     "metadata": {},
     "output_type": "execute_result"
    }
   ],
   "source": [
    "# List the pre-survey questions \n",
    "pre_labels = list(pre.columns)\n",
    "pre_labels"
   ]
  },
  {
   "cell_type": "code",
   "execution_count": 6,
   "metadata": {},
   "outputs": [
    {
     "data": {
      "text/plain": [
       "['Timestamp',\n",
       " '1.1) I feel I have the knowledge to provide doula services at a hospital, birth center, or home setting.',\n",
       " '1.2) I feel this doula training provided me with a beneficial skill set.',\n",
       " '1.3) I would recommend doula training to other students at Mills.',\n",
       " '1.4) I believe this doula training empowered me to support my community.',\n",
       " '2.1) Communicate with a pregnant person and their family about what they can expect during a pregnancy, labor, childbirth, postpartum period, abortion procedure, or similar reproductive experience.',\n",
       " '2.2) Communicate with a family about what they can expect during an adoption or fostering process.',\n",
       " '2.3) Communicate with someone about their thoughts relating to reproductive processes.',\n",
       " '2.4) Provide effective physical comfort measures to someone in labor.',\n",
       " '2.5) Provide effective emotional support to someone in labor.',\n",
       " '2.6) Facilitate communication between a laboring person and their healthcare team. ',\n",
       " '2.7) Advocate for a person’s needs and desires to their healthcare team during labor, childbirth, the immediate postpartum period, and abortion procedures. ',\n",
       " '2.8) Describe the benefits of doula support to others.',\n",
       " '3.1) Use what you learned in this doula training course to find employment.',\n",
       " '3.2) Look for additional opportunities, such as internships, to apply doula skillsets. ',\n",
       " '3.3) Volunteer your time as a doula to your community.',\n",
       " '3.4) Use what you have learned in this doula training program in other public health related activities.',\n",
       " '3.5) Enroll in another Public Health & Health Equity course.',\n",
       " '3.6) Pursue a career in public health.',\n",
       " '3.7) Consider a job in public health immediately after graduation.',\n",
       " '3.8) Utilize doula skills gained in this training (such as client-centered care, supportive communication and active listening, cultural responsiveness, accountability, and evidence-based education) in future public health work.',\n",
       " '3.9) Utilize doula skills gained in this training (such as client-centered care, supportive communication and active listening, cultural responsiveness, accountability, and evidence-based education) in future clinical healthcare.',\n",
       " 'Why did you decide to enroll in this course?',\n",
       " 'What knowledge and skills did you gain from taking this course?',\n",
       " 'What interest would you have in an internship opportunity after completing this course?',\n",
       " 'How do you think you will apply what you learned in this course in the future?',\n",
       " 'Mills Banner ID:',\n",
       " 'Unnamed: 27',\n",
       " 'Unnamed: 28',\n",
       " 'Unnamed: 29',\n",
       " 'Unnamed: 30',\n",
       " 'Unnamed: 31',\n",
       " 'Unnamed: 32']"
      ]
     },
     "execution_count": 6,
     "metadata": {},
     "output_type": "execute_result"
    }
   ],
   "source": [
    "# List the post-survey questions \n",
    "post_labels = list(post.columns)\n",
    "post_labels"
   ]
  },
  {
   "cell_type": "markdown",
   "metadata": {},
   "source": [
    "## Cleaning the Survey Data"
   ]
  },
  {
   "cell_type": "code",
   "execution_count": 7,
   "metadata": {},
   "outputs": [
    {
     "data": {
      "text/html": [
       "<div>\n",
       "<style scoped>\n",
       "    .dataframe tbody tr th:only-of-type {\n",
       "        vertical-align: middle;\n",
       "    }\n",
       "\n",
       "    .dataframe tbody tr th {\n",
       "        vertical-align: top;\n",
       "    }\n",
       "\n",
       "    .dataframe thead th {\n",
       "        text-align: right;\n",
       "    }\n",
       "</style>\n",
       "<table border=\"1\" class=\"dataframe\">\n",
       "  <thead>\n",
       "    <tr style=\"text-align: right;\">\n",
       "      <th></th>\n",
       "      <th>pre1.1</th>\n",
       "      <th>pre1.2</th>\n",
       "      <th>pre1.3</th>\n",
       "      <th>pre1.4</th>\n",
       "      <th>pre2.1</th>\n",
       "      <th>pre2.2</th>\n",
       "      <th>pre2.3</th>\n",
       "      <th>pre2.4</th>\n",
       "      <th>pre2.5</th>\n",
       "      <th>pre2.6</th>\n",
       "      <th>pre2.7</th>\n",
       "      <th>pre2.8</th>\n",
       "      <th>pre3.1</th>\n",
       "      <th>pre3.2</th>\n",
       "      <th>pre3.3</th>\n",
       "      <th>pre3.4</th>\n",
       "      <th>pre3.5</th>\n",
       "      <th>pre3.6</th>\n",
       "      <th>ID</th>\n",
       "      <th>Race/Ethnicity</th>\n",
       "    </tr>\n",
       "  </thead>\n",
       "  <tbody>\n",
       "    <tr>\n",
       "      <th>0</th>\n",
       "      <td>Strongly disagree</td>\n",
       "      <td>Strongly agree</td>\n",
       "      <td>Strongly agree</td>\n",
       "      <td>Strongly agree</td>\n",
       "      <td>Somewhat confident</td>\n",
       "      <td>Not at all confident</td>\n",
       "      <td>Very confident</td>\n",
       "      <td>Not at all confident</td>\n",
       "      <td>Very confident</td>\n",
       "      <td>A little bit confident</td>\n",
       "      <td>Not at all confident</td>\n",
       "      <td>Very confident</td>\n",
       "      <td>Very likely</td>\n",
       "      <td>Very likely</td>\n",
       "      <td>Very likely</td>\n",
       "      <td>Very likely</td>\n",
       "      <td>Very likely</td>\n",
       "      <td>Very likely</td>\n",
       "      <td>B00502608</td>\n",
       "      <td>White or Caucasian</td>\n",
       "    </tr>\n",
       "    <tr>\n",
       "      <th>1</th>\n",
       "      <td>Strongly disagree</td>\n",
       "      <td>Strongly agree</td>\n",
       "      <td>Agree</td>\n",
       "      <td>Strongly agree</td>\n",
       "      <td>A little bit confident</td>\n",
       "      <td>Very confident</td>\n",
       "      <td>Very confident</td>\n",
       "      <td>Not at all confident</td>\n",
       "      <td>A little bit confident</td>\n",
       "      <td>Very confident</td>\n",
       "      <td>Very confident</td>\n",
       "      <td>Somewhat confident</td>\n",
       "      <td>Very likely</td>\n",
       "      <td>Very likely</td>\n",
       "      <td>Very likely</td>\n",
       "      <td>Uncertain</td>\n",
       "      <td>Somewhat unlikely</td>\n",
       "      <td>Uncertain</td>\n",
       "      <td>B00495546</td>\n",
       "      <td>Hispanic or Latinx</td>\n",
       "    </tr>\n",
       "    <tr>\n",
       "      <th>2</th>\n",
       "      <td>Disagree</td>\n",
       "      <td>Strongly agree</td>\n",
       "      <td>Strongly agree</td>\n",
       "      <td>Strongly agree</td>\n",
       "      <td>Somewhat confident</td>\n",
       "      <td>A little bit confident</td>\n",
       "      <td>Very confident</td>\n",
       "      <td>A little bit confident</td>\n",
       "      <td>Somewhat confident</td>\n",
       "      <td>Somewhat confident</td>\n",
       "      <td>Somewhat confident</td>\n",
       "      <td>Confident</td>\n",
       "      <td>Very likely</td>\n",
       "      <td>Somewhat likely</td>\n",
       "      <td>Somewhat likely</td>\n",
       "      <td>Uncertain</td>\n",
       "      <td>Uncertain</td>\n",
       "      <td>Somewhat unlikely</td>\n",
       "      <td>B00499977</td>\n",
       "      <td>White or Caucasian</td>\n",
       "    </tr>\n",
       "    <tr>\n",
       "      <th>3</th>\n",
       "      <td>Agree</td>\n",
       "      <td>Strongly agree</td>\n",
       "      <td>Strongly agree</td>\n",
       "      <td>Strongly agree</td>\n",
       "      <td>Somewhat confident</td>\n",
       "      <td>Not at all confident</td>\n",
       "      <td>A little bit confident</td>\n",
       "      <td>Not at all confident</td>\n",
       "      <td>Not at all confident</td>\n",
       "      <td>Not at all confident</td>\n",
       "      <td>Not at all confident</td>\n",
       "      <td>Not at all confident</td>\n",
       "      <td>Very likely</td>\n",
       "      <td>Very likely</td>\n",
       "      <td>Uncertain</td>\n",
       "      <td>Uncertain</td>\n",
       "      <td>Somewhat likely</td>\n",
       "      <td>Somewhat likely</td>\n",
       "      <td>B00498026</td>\n",
       "      <td>Hispanic or Latinx, Middle-Eastern, Multi-raci...</td>\n",
       "    </tr>\n",
       "    <tr>\n",
       "      <th>4</th>\n",
       "      <td>Strongly disagree</td>\n",
       "      <td>Strongly agree</td>\n",
       "      <td>Strongly agree</td>\n",
       "      <td>Strongly agree</td>\n",
       "      <td>Not at all confident</td>\n",
       "      <td>Not at all confident</td>\n",
       "      <td>A little bit confident</td>\n",
       "      <td>Not at all confident</td>\n",
       "      <td>Not at all confident</td>\n",
       "      <td>A little bit confident</td>\n",
       "      <td>A little bit confident</td>\n",
       "      <td>Not at all confident</td>\n",
       "      <td>Very likely</td>\n",
       "      <td>Very likely</td>\n",
       "      <td>Very likely</td>\n",
       "      <td>Very likely</td>\n",
       "      <td>Very likely</td>\n",
       "      <td>Very likely</td>\n",
       "      <td>B00495558</td>\n",
       "      <td>Hispanic or Latinx</td>\n",
       "    </tr>\n",
       "  </tbody>\n",
       "</table>\n",
       "</div>"
      ],
      "text/plain": [
       "              pre1.1          pre1.2          pre1.3          pre1.4  \\\n",
       "0  Strongly disagree  Strongly agree  Strongly agree  Strongly agree   \n",
       "1  Strongly disagree  Strongly agree           Agree  Strongly agree   \n",
       "2           Disagree  Strongly agree  Strongly agree  Strongly agree   \n",
       "3              Agree  Strongly agree  Strongly agree  Strongly agree   \n",
       "4  Strongly disagree  Strongly agree  Strongly agree  Strongly agree   \n",
       "\n",
       "                   pre2.1                  pre2.2                  pre2.3  \\\n",
       "0      Somewhat confident    Not at all confident          Very confident   \n",
       "1  A little bit confident          Very confident          Very confident   \n",
       "2      Somewhat confident  A little bit confident          Very confident   \n",
       "3      Somewhat confident    Not at all confident  A little bit confident   \n",
       "4    Not at all confident    Not at all confident  A little bit confident   \n",
       "\n",
       "                   pre2.4                  pre2.5                  pre2.6  \\\n",
       "0    Not at all confident          Very confident  A little bit confident   \n",
       "1    Not at all confident  A little bit confident          Very confident   \n",
       "2  A little bit confident      Somewhat confident      Somewhat confident   \n",
       "3    Not at all confident    Not at all confident    Not at all confident   \n",
       "4    Not at all confident    Not at all confident  A little bit confident   \n",
       "\n",
       "                   pre2.7                pre2.8       pre3.1           pre3.2  \\\n",
       "0    Not at all confident        Very confident  Very likely      Very likely   \n",
       "1          Very confident    Somewhat confident  Very likely      Very likely   \n",
       "2      Somewhat confident             Confident  Very likely  Somewhat likely   \n",
       "3    Not at all confident  Not at all confident  Very likely      Very likely   \n",
       "4  A little bit confident  Not at all confident  Very likely      Very likely   \n",
       "\n",
       "            pre3.3       pre3.4             pre3.5             pre3.6  \\\n",
       "0      Very likely  Very likely        Very likely        Very likely   \n",
       "1      Very likely    Uncertain  Somewhat unlikely          Uncertain   \n",
       "2  Somewhat likely    Uncertain          Uncertain  Somewhat unlikely   \n",
       "3        Uncertain    Uncertain    Somewhat likely    Somewhat likely   \n",
       "4      Very likely  Very likely        Very likely        Very likely   \n",
       "\n",
       "          ID                                     Race/Ethnicity  \n",
       "0  B00502608                                 White or Caucasian  \n",
       "1  B00495546                                 Hispanic or Latinx  \n",
       "2  B00499977                                 White or Caucasian  \n",
       "3  B00498026  Hispanic or Latinx, Middle-Eastern, Multi-raci...  \n",
       "4  B00495558                                 Hispanic or Latinx  "
      ]
     },
     "execution_count": 7,
     "metadata": {},
     "output_type": "execute_result"
    }
   ],
   "source": [
    "# Clean the pre-survey data \n",
    "# Select questions in pre-survey with responses from preset selection\n",
    "orig_pre_q_labels = pre_labels[2:20]\n",
    "new_pre_q_labels = ['pre1.1', 'pre1.2', 'pre1.3', 'pre1.4', 'pre2.1', 'pre2.2', 'pre2.3', 'pre2.4','pre2.5', 'pre2.6', 'pre2.7','pre2.8','pre3.1', 'pre3.2', 'pre3.3', 'pre3.4', 'pre3.5', 'pre3.6']\n",
    "pre_q_dict = dict(zip(orig_pre_q_labels, new_pre_q_labels))\n",
    "\n",
    "# Rename (shorten) column names \n",
    "pre.rename(columns=pre_q_dict, inplace=True) \n",
    "pre.rename(columns={'Mills Banner ID:' : 'ID'}, inplace=True)\n",
    "pre.rename(columns= {'4.2) How do you identify your race/ethnicity? (Check all that apply)': 'Race/Ethnicity'}, inplace=True)\n",
    "\n",
    "# Create a new table with survey responses, ID, and race/ethnicity\n",
    "pre_tbl = pre.iloc[:,2:20]\n",
    "pre_tbl['ID'] = pre['ID']\n",
    "pre_tbl['Race/Ethnicity'] = pre['Race/Ethnicity']\n",
    "pre_tbl.head(5)"
   ]
  },
  {
   "cell_type": "code",
   "execution_count": 8,
   "metadata": {},
   "outputs": [
    {
     "data": {
      "text/html": [
       "<div>\n",
       "<style scoped>\n",
       "    .dataframe tbody tr th:only-of-type {\n",
       "        vertical-align: middle;\n",
       "    }\n",
       "\n",
       "    .dataframe tbody tr th {\n",
       "        vertical-align: top;\n",
       "    }\n",
       "\n",
       "    .dataframe thead th {\n",
       "        text-align: right;\n",
       "    }\n",
       "</style>\n",
       "<table border=\"1\" class=\"dataframe\">\n",
       "  <thead>\n",
       "    <tr style=\"text-align: right;\">\n",
       "      <th></th>\n",
       "      <th>post1.1</th>\n",
       "      <th>post1.2</th>\n",
       "      <th>post1.3</th>\n",
       "      <th>post1.4</th>\n",
       "      <th>post2.1</th>\n",
       "      <th>post2.2</th>\n",
       "      <th>post2.3</th>\n",
       "      <th>post2.4</th>\n",
       "      <th>post2.5</th>\n",
       "      <th>post2.6</th>\n",
       "      <th>...</th>\n",
       "      <th>post3.1</th>\n",
       "      <th>post3.2</th>\n",
       "      <th>post3.3</th>\n",
       "      <th>post3.4</th>\n",
       "      <th>post3.5</th>\n",
       "      <th>post3.6</th>\n",
       "      <th>post3.7</th>\n",
       "      <th>post3.8</th>\n",
       "      <th>post3.9</th>\n",
       "      <th>ID</th>\n",
       "    </tr>\n",
       "  </thead>\n",
       "  <tbody>\n",
       "    <tr>\n",
       "      <th>0</th>\n",
       "      <td>Strongly agree</td>\n",
       "      <td>Strongly agree</td>\n",
       "      <td>Strongly agree</td>\n",
       "      <td>Strongly agree</td>\n",
       "      <td>Confident</td>\n",
       "      <td>Somewhat confident</td>\n",
       "      <td>Confident</td>\n",
       "      <td>Very confident</td>\n",
       "      <td>Very confident</td>\n",
       "      <td>Very confident</td>\n",
       "      <td>...</td>\n",
       "      <td>Very likely</td>\n",
       "      <td>Very likely</td>\n",
       "      <td>Very likely</td>\n",
       "      <td>Very likely</td>\n",
       "      <td>Very likely</td>\n",
       "      <td>Very likely</td>\n",
       "      <td>Very likely</td>\n",
       "      <td>Very likely</td>\n",
       "      <td>Very likely</td>\n",
       "      <td>B00495496</td>\n",
       "    </tr>\n",
       "    <tr>\n",
       "      <th>1</th>\n",
       "      <td>Agree</td>\n",
       "      <td>Strongly agree</td>\n",
       "      <td>Strongly agree</td>\n",
       "      <td>Agree</td>\n",
       "      <td>Confident</td>\n",
       "      <td>Somewhat confident</td>\n",
       "      <td>Confident</td>\n",
       "      <td>Confident</td>\n",
       "      <td>Very confident</td>\n",
       "      <td>Confident</td>\n",
       "      <td>...</td>\n",
       "      <td>Somewhat likely</td>\n",
       "      <td>Somewhat likely</td>\n",
       "      <td>Somewhat likely</td>\n",
       "      <td>Somewhat likely</td>\n",
       "      <td>Very likely</td>\n",
       "      <td>Very likely</td>\n",
       "      <td>Very likely</td>\n",
       "      <td>Very likely</td>\n",
       "      <td>Very likely</td>\n",
       "      <td>B00465879</td>\n",
       "    </tr>\n",
       "    <tr>\n",
       "      <th>2</th>\n",
       "      <td>Agree</td>\n",
       "      <td>Strongly agree</td>\n",
       "      <td>Strongly agree</td>\n",
       "      <td>Strongly agree</td>\n",
       "      <td>Somewhat confident</td>\n",
       "      <td>A little bit confident</td>\n",
       "      <td>Very confident</td>\n",
       "      <td>Confident</td>\n",
       "      <td>Confident</td>\n",
       "      <td>Very confident</td>\n",
       "      <td>...</td>\n",
       "      <td>Very likely</td>\n",
       "      <td>Very likely</td>\n",
       "      <td>Very likely</td>\n",
       "      <td>Very likely</td>\n",
       "      <td>Somewhat likely</td>\n",
       "      <td>Somewhat likely</td>\n",
       "      <td>Somewhat likely</td>\n",
       "      <td>Very likely</td>\n",
       "      <td>Very likely</td>\n",
       "      <td>B00498304</td>\n",
       "    </tr>\n",
       "    <tr>\n",
       "      <th>3</th>\n",
       "      <td>Neither agree nor disagree</td>\n",
       "      <td>Agree</td>\n",
       "      <td>Agree</td>\n",
       "      <td>Agree</td>\n",
       "      <td>A little bit confident</td>\n",
       "      <td>A little bit confident</td>\n",
       "      <td>A little bit confident</td>\n",
       "      <td>A little bit confident</td>\n",
       "      <td>Somewhat confident</td>\n",
       "      <td>Somewhat confident</td>\n",
       "      <td>...</td>\n",
       "      <td>Uncertain</td>\n",
       "      <td>Very likely</td>\n",
       "      <td>Very likely</td>\n",
       "      <td>Very likely</td>\n",
       "      <td>Somewhat likely</td>\n",
       "      <td>Somewhat likely</td>\n",
       "      <td>Somewhat unlikely</td>\n",
       "      <td>Very likely</td>\n",
       "      <td>Very likely</td>\n",
       "      <td>B00496428</td>\n",
       "    </tr>\n",
       "    <tr>\n",
       "      <th>4</th>\n",
       "      <td>Strongly agree</td>\n",
       "      <td>Strongly agree</td>\n",
       "      <td>Strongly agree</td>\n",
       "      <td>Strongly agree</td>\n",
       "      <td>Very confident</td>\n",
       "      <td>Confident</td>\n",
       "      <td>Very confident</td>\n",
       "      <td>Confident</td>\n",
       "      <td>Very confident</td>\n",
       "      <td>Very confident</td>\n",
       "      <td>...</td>\n",
       "      <td>Very likely</td>\n",
       "      <td>Very likely</td>\n",
       "      <td>Very likely</td>\n",
       "      <td>Very likely</td>\n",
       "      <td>Very likely</td>\n",
       "      <td>Very likely</td>\n",
       "      <td>Somewhat likely</td>\n",
       "      <td>Very likely</td>\n",
       "      <td>Very likely</td>\n",
       "      <td>B00499944</td>\n",
       "    </tr>\n",
       "  </tbody>\n",
       "</table>\n",
       "<p>5 rows × 22 columns</p>\n",
       "</div>"
      ],
      "text/plain": [
       "                      post1.1         post1.2         post1.3         post1.4  \\\n",
       "0              Strongly agree  Strongly agree  Strongly agree  Strongly agree   \n",
       "1                       Agree  Strongly agree  Strongly agree           Agree   \n",
       "2                       Agree  Strongly agree  Strongly agree  Strongly agree   \n",
       "3  Neither agree nor disagree           Agree           Agree           Agree   \n",
       "4              Strongly agree  Strongly agree  Strongly agree  Strongly agree   \n",
       "\n",
       "                  post2.1                 post2.2                 post2.3  \\\n",
       "0               Confident      Somewhat confident               Confident   \n",
       "1               Confident      Somewhat confident               Confident   \n",
       "2      Somewhat confident  A little bit confident          Very confident   \n",
       "3  A little bit confident  A little bit confident  A little bit confident   \n",
       "4          Very confident               Confident          Very confident   \n",
       "\n",
       "                  post2.4             post2.5             post2.6  ...  \\\n",
       "0          Very confident      Very confident      Very confident  ...   \n",
       "1               Confident      Very confident           Confident  ...   \n",
       "2               Confident           Confident      Very confident  ...   \n",
       "3  A little bit confident  Somewhat confident  Somewhat confident  ...   \n",
       "4               Confident      Very confident      Very confident  ...   \n",
       "\n",
       "           post3.1          post3.2          post3.3          post3.4  \\\n",
       "0      Very likely      Very likely      Very likely      Very likely   \n",
       "1  Somewhat likely  Somewhat likely  Somewhat likely  Somewhat likely   \n",
       "2      Very likely      Very likely      Very likely      Very likely   \n",
       "3        Uncertain      Very likely      Very likely      Very likely   \n",
       "4      Very likely      Very likely      Very likely      Very likely   \n",
       "\n",
       "           post3.5          post3.6            post3.7      post3.8  \\\n",
       "0      Very likely      Very likely        Very likely  Very likely   \n",
       "1      Very likely      Very likely        Very likely  Very likely   \n",
       "2  Somewhat likely  Somewhat likely    Somewhat likely  Very likely   \n",
       "3  Somewhat likely  Somewhat likely  Somewhat unlikely  Very likely   \n",
       "4      Very likely      Very likely    Somewhat likely  Very likely   \n",
       "\n",
       "       post3.9         ID  \n",
       "0  Very likely  B00495496  \n",
       "1  Very likely  B00465879  \n",
       "2  Very likely  B00498304  \n",
       "3  Very likely  B00496428  \n",
       "4  Very likely  B00499944  \n",
       "\n",
       "[5 rows x 22 columns]"
      ]
     },
     "execution_count": 8,
     "metadata": {},
     "output_type": "execute_result"
    }
   ],
   "source": [
    "# Similarly clean the post-survey data \n",
    "orig_post_q_labels = post_labels[1:22]\n",
    "new_post_q_labels = ['post1.1', 'post1.2', 'post1.3', 'post1.4', 'post2.1', 'post2.2', 'post2.3', 'post2.4', 'post2.5', 'post2.6', 'post2.7','post2.8','post3.1', 'post3.2', 'post3.3', 'post3.4', 'post3.5', 'post3.6', 'post3.7', 'post3.8' , 'post3.9']\n",
    "post_q_dict = dict(zip(orig_post_q_labels, new_post_q_labels))\n",
    "\n",
    "post.rename(columns=post_q_dict, inplace=True) \n",
    "post.rename(columns={'Mills Banner ID:' : 'ID'}, inplace=True)\n",
    "\n",
    "# Select a few columns \n",
    "post_tbl = post.iloc[:,1:22]\n",
    "post_tbl['ID'] = post['ID']\n",
    "post_tbl.head(5)"
   ]
  },
  {
   "cell_type": "code",
   "execution_count": 9,
   "metadata": {},
   "outputs": [
    {
     "data": {
      "text/html": [
       "<div>\n",
       "<style scoped>\n",
       "    .dataframe tbody tr th:only-of-type {\n",
       "        vertical-align: middle;\n",
       "    }\n",
       "\n",
       "    .dataframe tbody tr th {\n",
       "        vertical-align: top;\n",
       "    }\n",
       "\n",
       "    .dataframe thead th {\n",
       "        text-align: right;\n",
       "    }\n",
       "</style>\n",
       "<table border=\"1\" class=\"dataframe\">\n",
       "  <thead>\n",
       "    <tr style=\"text-align: right;\">\n",
       "      <th></th>\n",
       "      <th>pre1.1</th>\n",
       "      <th>pre1.2</th>\n",
       "      <th>pre1.3</th>\n",
       "      <th>pre1.4</th>\n",
       "      <th>pre2.1</th>\n",
       "      <th>pre2.2</th>\n",
       "      <th>pre2.3</th>\n",
       "      <th>pre2.4</th>\n",
       "      <th>pre2.5</th>\n",
       "      <th>pre2.6</th>\n",
       "      <th>...</th>\n",
       "      <th>post2.8</th>\n",
       "      <th>post3.1</th>\n",
       "      <th>post3.2</th>\n",
       "      <th>post3.3</th>\n",
       "      <th>post3.4</th>\n",
       "      <th>post3.5</th>\n",
       "      <th>post3.6</th>\n",
       "      <th>post3.7</th>\n",
       "      <th>post3.8</th>\n",
       "      <th>post3.9</th>\n",
       "    </tr>\n",
       "  </thead>\n",
       "  <tbody>\n",
       "    <tr>\n",
       "      <th>0</th>\n",
       "      <td>Strongly disagree</td>\n",
       "      <td>Strongly agree</td>\n",
       "      <td>Strongly agree</td>\n",
       "      <td>Strongly agree</td>\n",
       "      <td>Somewhat confident</td>\n",
       "      <td>Not at all confident</td>\n",
       "      <td>Very confident</td>\n",
       "      <td>Not at all confident</td>\n",
       "      <td>Very confident</td>\n",
       "      <td>A little bit confident</td>\n",
       "      <td>...</td>\n",
       "      <td>Very confident</td>\n",
       "      <td>Very likely</td>\n",
       "      <td>Very likely</td>\n",
       "      <td>Very likely</td>\n",
       "      <td>Very likely</td>\n",
       "      <td>Very likely</td>\n",
       "      <td>Very likely</td>\n",
       "      <td>Very likely</td>\n",
       "      <td>Very likely</td>\n",
       "      <td>Very likely</td>\n",
       "    </tr>\n",
       "    <tr>\n",
       "      <th>1</th>\n",
       "      <td>Strongly disagree</td>\n",
       "      <td>Strongly agree</td>\n",
       "      <td>Agree</td>\n",
       "      <td>Strongly agree</td>\n",
       "      <td>A little bit confident</td>\n",
       "      <td>Very confident</td>\n",
       "      <td>Very confident</td>\n",
       "      <td>Not at all confident</td>\n",
       "      <td>A little bit confident</td>\n",
       "      <td>Very confident</td>\n",
       "      <td>...</td>\n",
       "      <td>Somewhat confident</td>\n",
       "      <td>Somewhat likely</td>\n",
       "      <td>Somewhat likely</td>\n",
       "      <td>Very likely</td>\n",
       "      <td>Very likely</td>\n",
       "      <td>Uncertain</td>\n",
       "      <td>Somewhat likely</td>\n",
       "      <td>Uncertain</td>\n",
       "      <td>Very likely</td>\n",
       "      <td>Very likely</td>\n",
       "    </tr>\n",
       "    <tr>\n",
       "      <th>2</th>\n",
       "      <td>Disagree</td>\n",
       "      <td>Strongly agree</td>\n",
       "      <td>Strongly agree</td>\n",
       "      <td>Strongly agree</td>\n",
       "      <td>Somewhat confident</td>\n",
       "      <td>A little bit confident</td>\n",
       "      <td>Very confident</td>\n",
       "      <td>A little bit confident</td>\n",
       "      <td>Somewhat confident</td>\n",
       "      <td>Somewhat confident</td>\n",
       "      <td>...</td>\n",
       "      <td>Very confident</td>\n",
       "      <td>Uncertain</td>\n",
       "      <td>Uncertain</td>\n",
       "      <td>Very likely</td>\n",
       "      <td>Very likely</td>\n",
       "      <td>Somewhat likely</td>\n",
       "      <td>Somewhat likely</td>\n",
       "      <td>Uncertain</td>\n",
       "      <td>Somewhat likely</td>\n",
       "      <td>Somewhat likely</td>\n",
       "    </tr>\n",
       "    <tr>\n",
       "      <th>3</th>\n",
       "      <td>Agree</td>\n",
       "      <td>Strongly agree</td>\n",
       "      <td>Strongly agree</td>\n",
       "      <td>Strongly agree</td>\n",
       "      <td>Somewhat confident</td>\n",
       "      <td>Not at all confident</td>\n",
       "      <td>A little bit confident</td>\n",
       "      <td>Not at all confident</td>\n",
       "      <td>Not at all confident</td>\n",
       "      <td>Not at all confident</td>\n",
       "      <td>...</td>\n",
       "      <td>Very confident</td>\n",
       "      <td>Very likely</td>\n",
       "      <td>Very likely</td>\n",
       "      <td>Somewhat likely</td>\n",
       "      <td>Very likely</td>\n",
       "      <td>Somewhat unlikely</td>\n",
       "      <td>Uncertain</td>\n",
       "      <td>Somewhat unlikely</td>\n",
       "      <td>Uncertain</td>\n",
       "      <td>Very unlikely</td>\n",
       "    </tr>\n",
       "    <tr>\n",
       "      <th>4</th>\n",
       "      <td>Disagree</td>\n",
       "      <td>Strongly agree</td>\n",
       "      <td>Strongly agree</td>\n",
       "      <td>Strongly agree</td>\n",
       "      <td>A little bit confident</td>\n",
       "      <td>Not at all confident</td>\n",
       "      <td>A little bit confident</td>\n",
       "      <td>Not at all confident</td>\n",
       "      <td>A little bit confident</td>\n",
       "      <td>Somewhat confident</td>\n",
       "      <td>...</td>\n",
       "      <td>Very confident</td>\n",
       "      <td>Very likely</td>\n",
       "      <td>Very likely</td>\n",
       "      <td>Very likely</td>\n",
       "      <td>Very likely</td>\n",
       "      <td>Very likely</td>\n",
       "      <td>Very likely</td>\n",
       "      <td>Somewhat likely</td>\n",
       "      <td>Very likely</td>\n",
       "      <td>Very likely</td>\n",
       "    </tr>\n",
       "    <tr>\n",
       "      <th>5</th>\n",
       "      <td>Strongly disagree</td>\n",
       "      <td>Agree</td>\n",
       "      <td>Agree</td>\n",
       "      <td>Agree</td>\n",
       "      <td>Somewhat confident</td>\n",
       "      <td>Not at all confident</td>\n",
       "      <td>Somewhat confident</td>\n",
       "      <td>A little bit confident</td>\n",
       "      <td>A little bit confident</td>\n",
       "      <td>Not at all confident</td>\n",
       "      <td>...</td>\n",
       "      <td>Very confident</td>\n",
       "      <td>Somewhat likely</td>\n",
       "      <td>Somewhat likely</td>\n",
       "      <td>Somewhat likely</td>\n",
       "      <td>Somewhat likely</td>\n",
       "      <td>Very likely</td>\n",
       "      <td>Very likely</td>\n",
       "      <td>Very likely</td>\n",
       "      <td>Very likely</td>\n",
       "      <td>Very likely</td>\n",
       "    </tr>\n",
       "    <tr>\n",
       "      <th>6</th>\n",
       "      <td>Disagree</td>\n",
       "      <td>Strongly agree</td>\n",
       "      <td>Agree</td>\n",
       "      <td>Strongly agree</td>\n",
       "      <td>Not at all confident</td>\n",
       "      <td>Not at all confident</td>\n",
       "      <td>A little bit confident</td>\n",
       "      <td>A little bit confident</td>\n",
       "      <td>Somewhat confident</td>\n",
       "      <td>A little bit confident</td>\n",
       "      <td>...</td>\n",
       "      <td>Very confident</td>\n",
       "      <td>Very likely</td>\n",
       "      <td>Very likely</td>\n",
       "      <td>Very likely</td>\n",
       "      <td>Very likely</td>\n",
       "      <td>Very likely</td>\n",
       "      <td>Very likely</td>\n",
       "      <td>Very likely</td>\n",
       "      <td>Very likely</td>\n",
       "      <td>Very likely</td>\n",
       "    </tr>\n",
       "    <tr>\n",
       "      <th>7</th>\n",
       "      <td>Strongly disagree</td>\n",
       "      <td>Strongly agree</td>\n",
       "      <td>Strongly agree</td>\n",
       "      <td>Strongly agree</td>\n",
       "      <td>Not at all confident</td>\n",
       "      <td>Not at all confident</td>\n",
       "      <td>Somewhat confident</td>\n",
       "      <td>A little bit confident</td>\n",
       "      <td>A little bit confident</td>\n",
       "      <td>Not at all confident</td>\n",
       "      <td>...</td>\n",
       "      <td>Very confident</td>\n",
       "      <td>Very likely</td>\n",
       "      <td>Very likely</td>\n",
       "      <td>Very likely</td>\n",
       "      <td>Very likely</td>\n",
       "      <td>Somewhat likely</td>\n",
       "      <td>Somewhat likely</td>\n",
       "      <td>Somewhat likely</td>\n",
       "      <td>Very likely</td>\n",
       "      <td>Very likely</td>\n",
       "    </tr>\n",
       "    <tr>\n",
       "      <th>8</th>\n",
       "      <td>Strongly disagree</td>\n",
       "      <td>Agree</td>\n",
       "      <td>NaN</td>\n",
       "      <td>Neither agree nor disagree</td>\n",
       "      <td>Not at all confident</td>\n",
       "      <td>Not at all confident</td>\n",
       "      <td>Not at all confident</td>\n",
       "      <td>Not at all confident</td>\n",
       "      <td>Not at all confident</td>\n",
       "      <td>Not at all confident</td>\n",
       "      <td>...</td>\n",
       "      <td>Somewhat confident</td>\n",
       "      <td>Uncertain</td>\n",
       "      <td>Very likely</td>\n",
       "      <td>Very likely</td>\n",
       "      <td>Very likely</td>\n",
       "      <td>Somewhat likely</td>\n",
       "      <td>Somewhat likely</td>\n",
       "      <td>Somewhat unlikely</td>\n",
       "      <td>Very likely</td>\n",
       "      <td>Very likely</td>\n",
       "    </tr>\n",
       "    <tr>\n",
       "      <th>9</th>\n",
       "      <td>Strongly disagree</td>\n",
       "      <td>Strongly agree</td>\n",
       "      <td>Neither agree nor disagree</td>\n",
       "      <td>Strongly agree</td>\n",
       "      <td>Not at all confident</td>\n",
       "      <td>Not at all confident</td>\n",
       "      <td>Not at all confident</td>\n",
       "      <td>Not at all confident</td>\n",
       "      <td>Not at all confident</td>\n",
       "      <td>Not at all confident</td>\n",
       "      <td>...</td>\n",
       "      <td>Very confident</td>\n",
       "      <td>Somewhat likely</td>\n",
       "      <td>Very likely</td>\n",
       "      <td>Very likely</td>\n",
       "      <td>Very likely</td>\n",
       "      <td>Uncertain</td>\n",
       "      <td>Uncertain</td>\n",
       "      <td>Somewhat likely</td>\n",
       "      <td>Somewhat likely</td>\n",
       "      <td>Very likely</td>\n",
       "    </tr>\n",
       "    <tr>\n",
       "      <th>10</th>\n",
       "      <td>Disagree</td>\n",
       "      <td>Strongly agree</td>\n",
       "      <td>Agree</td>\n",
       "      <td>Strongly agree</td>\n",
       "      <td>Somewhat confident</td>\n",
       "      <td>Not at all confident</td>\n",
       "      <td>A little bit confident</td>\n",
       "      <td>Not at all confident</td>\n",
       "      <td>Somewhat confident</td>\n",
       "      <td>Somewhat confident</td>\n",
       "      <td>...</td>\n",
       "      <td>Very confident</td>\n",
       "      <td>Somewhat likely</td>\n",
       "      <td>Very likely</td>\n",
       "      <td>Very likely</td>\n",
       "      <td>Very likely</td>\n",
       "      <td>Uncertain</td>\n",
       "      <td>Somewhat likely</td>\n",
       "      <td>Uncertain</td>\n",
       "      <td>Very likely</td>\n",
       "      <td>Very likely</td>\n",
       "    </tr>\n",
       "  </tbody>\n",
       "</table>\n",
       "<p>11 rows × 41 columns</p>\n",
       "</div>"
      ],
      "text/plain": [
       "               pre1.1          pre1.2                      pre1.3  \\\n",
       "0   Strongly disagree  Strongly agree              Strongly agree   \n",
       "1   Strongly disagree  Strongly agree                       Agree   \n",
       "2            Disagree  Strongly agree              Strongly agree   \n",
       "3               Agree  Strongly agree              Strongly agree   \n",
       "4            Disagree  Strongly agree              Strongly agree   \n",
       "5   Strongly disagree           Agree                       Agree   \n",
       "6            Disagree  Strongly agree                       Agree   \n",
       "7   Strongly disagree  Strongly agree              Strongly agree   \n",
       "8   Strongly disagree           Agree                         NaN   \n",
       "9   Strongly disagree  Strongly agree  Neither agree nor disagree   \n",
       "10           Disagree  Strongly agree                       Agree   \n",
       "\n",
       "                        pre1.4                  pre2.1  \\\n",
       "0               Strongly agree      Somewhat confident   \n",
       "1               Strongly agree  A little bit confident   \n",
       "2               Strongly agree      Somewhat confident   \n",
       "3               Strongly agree      Somewhat confident   \n",
       "4               Strongly agree  A little bit confident   \n",
       "5                        Agree      Somewhat confident   \n",
       "6               Strongly agree    Not at all confident   \n",
       "7               Strongly agree    Not at all confident   \n",
       "8   Neither agree nor disagree    Not at all confident   \n",
       "9               Strongly agree    Not at all confident   \n",
       "10              Strongly agree      Somewhat confident   \n",
       "\n",
       "                    pre2.2                  pre2.3                  pre2.4  \\\n",
       "0     Not at all confident          Very confident    Not at all confident   \n",
       "1           Very confident          Very confident    Not at all confident   \n",
       "2   A little bit confident          Very confident  A little bit confident   \n",
       "3     Not at all confident  A little bit confident    Not at all confident   \n",
       "4     Not at all confident  A little bit confident    Not at all confident   \n",
       "5     Not at all confident      Somewhat confident  A little bit confident   \n",
       "6     Not at all confident  A little bit confident  A little bit confident   \n",
       "7     Not at all confident      Somewhat confident  A little bit confident   \n",
       "8     Not at all confident    Not at all confident    Not at all confident   \n",
       "9     Not at all confident    Not at all confident    Not at all confident   \n",
       "10    Not at all confident  A little bit confident    Not at all confident   \n",
       "\n",
       "                    pre2.5                  pre2.6  ...             post2.8  \\\n",
       "0           Very confident  A little bit confident  ...      Very confident   \n",
       "1   A little bit confident          Very confident  ...  Somewhat confident   \n",
       "2       Somewhat confident      Somewhat confident  ...      Very confident   \n",
       "3     Not at all confident    Not at all confident  ...      Very confident   \n",
       "4   A little bit confident      Somewhat confident  ...      Very confident   \n",
       "5   A little bit confident    Not at all confident  ...      Very confident   \n",
       "6       Somewhat confident  A little bit confident  ...      Very confident   \n",
       "7   A little bit confident    Not at all confident  ...      Very confident   \n",
       "8     Not at all confident    Not at all confident  ...  Somewhat confident   \n",
       "9     Not at all confident    Not at all confident  ...      Very confident   \n",
       "10      Somewhat confident      Somewhat confident  ...      Very confident   \n",
       "\n",
       "            post3.1          post3.2          post3.3          post3.4  \\\n",
       "0       Very likely      Very likely      Very likely      Very likely   \n",
       "1   Somewhat likely  Somewhat likely      Very likely      Very likely   \n",
       "2         Uncertain        Uncertain      Very likely      Very likely   \n",
       "3       Very likely      Very likely  Somewhat likely      Very likely   \n",
       "4       Very likely      Very likely      Very likely      Very likely   \n",
       "5   Somewhat likely  Somewhat likely  Somewhat likely  Somewhat likely   \n",
       "6       Very likely      Very likely      Very likely      Very likely   \n",
       "7       Very likely      Very likely      Very likely      Very likely   \n",
       "8         Uncertain      Very likely      Very likely      Very likely   \n",
       "9   Somewhat likely      Very likely      Very likely      Very likely   \n",
       "10  Somewhat likely      Very likely      Very likely      Very likely   \n",
       "\n",
       "              post3.5          post3.6            post3.7          post3.8  \\\n",
       "0         Very likely      Very likely        Very likely      Very likely   \n",
       "1           Uncertain  Somewhat likely          Uncertain      Very likely   \n",
       "2     Somewhat likely  Somewhat likely          Uncertain  Somewhat likely   \n",
       "3   Somewhat unlikely        Uncertain  Somewhat unlikely        Uncertain   \n",
       "4         Very likely      Very likely    Somewhat likely      Very likely   \n",
       "5         Very likely      Very likely        Very likely      Very likely   \n",
       "6         Very likely      Very likely        Very likely      Very likely   \n",
       "7     Somewhat likely  Somewhat likely    Somewhat likely      Very likely   \n",
       "8     Somewhat likely  Somewhat likely  Somewhat unlikely      Very likely   \n",
       "9           Uncertain        Uncertain    Somewhat likely  Somewhat likely   \n",
       "10          Uncertain  Somewhat likely          Uncertain      Very likely   \n",
       "\n",
       "            post3.9  \n",
       "0       Very likely  \n",
       "1       Very likely  \n",
       "2   Somewhat likely  \n",
       "3     Very unlikely  \n",
       "4       Very likely  \n",
       "5       Very likely  \n",
       "6       Very likely  \n",
       "7       Very likely  \n",
       "8       Very likely  \n",
       "9       Very likely  \n",
       "10      Very likely  \n",
       "\n",
       "[11 rows x 41 columns]"
      ]
     },
     "execution_count": 9,
     "metadata": {},
     "output_type": "execute_result"
    }
   ],
   "source": [
    "# Merge pre and post tables keeping only those participants who responded to both surveys\n",
    "data = pd.merge(left=pre_tbl, right=post_tbl, left_on='ID', right_on='ID')\n",
    "data"
   ]
  },
  {
   "cell_type": "markdown",
   "metadata": {},
   "source": [
    "## Quantifying the Responses"
   ]
  },
  {
   "cell_type": "code",
   "execution_count": 10,
   "metadata": {},
   "outputs": [
    {
     "data": {
      "text/html": [
       "<div>\n",
       "<style scoped>\n",
       "    .dataframe tbody tr th:only-of-type {\n",
       "        vertical-align: middle;\n",
       "    }\n",
       "\n",
       "    .dataframe tbody tr th {\n",
       "        vertical-align: top;\n",
       "    }\n",
       "\n",
       "    .dataframe thead th {\n",
       "        text-align: right;\n",
       "    }\n",
       "</style>\n",
       "<table border=\"1\" class=\"dataframe\">\n",
       "  <thead>\n",
       "    <tr style=\"text-align: right;\">\n",
       "      <th></th>\n",
       "      <th>pre1.1</th>\n",
       "      <th>pre1.2</th>\n",
       "      <th>pre1.3</th>\n",
       "      <th>pre1.4</th>\n",
       "      <th>pre2.1</th>\n",
       "      <th>pre2.2</th>\n",
       "      <th>pre2.3</th>\n",
       "      <th>pre2.4</th>\n",
       "      <th>pre2.5</th>\n",
       "      <th>pre2.6</th>\n",
       "      <th>...</th>\n",
       "      <th>post2.8</th>\n",
       "      <th>post3.1</th>\n",
       "      <th>post3.2</th>\n",
       "      <th>post3.3</th>\n",
       "      <th>post3.4</th>\n",
       "      <th>post3.5</th>\n",
       "      <th>post3.6</th>\n",
       "      <th>post3.7</th>\n",
       "      <th>post3.8</th>\n",
       "      <th>post3.9</th>\n",
       "    </tr>\n",
       "  </thead>\n",
       "  <tbody>\n",
       "    <tr>\n",
       "      <th>0</th>\n",
       "      <td>1</td>\n",
       "      <td>4</td>\n",
       "      <td>4.0</td>\n",
       "      <td>4</td>\n",
       "      <td>2</td>\n",
       "      <td>0</td>\n",
       "      <td>4</td>\n",
       "      <td>0</td>\n",
       "      <td>4</td>\n",
       "      <td>1</td>\n",
       "      <td>...</td>\n",
       "      <td>4</td>\n",
       "      <td>4</td>\n",
       "      <td>4</td>\n",
       "      <td>4</td>\n",
       "      <td>4</td>\n",
       "      <td>4</td>\n",
       "      <td>4</td>\n",
       "      <td>4</td>\n",
       "      <td>4</td>\n",
       "      <td>4</td>\n",
       "    </tr>\n",
       "    <tr>\n",
       "      <th>1</th>\n",
       "      <td>1</td>\n",
       "      <td>4</td>\n",
       "      <td>3.0</td>\n",
       "      <td>4</td>\n",
       "      <td>1</td>\n",
       "      <td>4</td>\n",
       "      <td>4</td>\n",
       "      <td>0</td>\n",
       "      <td>1</td>\n",
       "      <td>4</td>\n",
       "      <td>...</td>\n",
       "      <td>2</td>\n",
       "      <td>3</td>\n",
       "      <td>3</td>\n",
       "      <td>4</td>\n",
       "      <td>4</td>\n",
       "      <td>2</td>\n",
       "      <td>3</td>\n",
       "      <td>2</td>\n",
       "      <td>4</td>\n",
       "      <td>4</td>\n",
       "    </tr>\n",
       "    <tr>\n",
       "      <th>2</th>\n",
       "      <td>2</td>\n",
       "      <td>4</td>\n",
       "      <td>4.0</td>\n",
       "      <td>4</td>\n",
       "      <td>2</td>\n",
       "      <td>1</td>\n",
       "      <td>4</td>\n",
       "      <td>1</td>\n",
       "      <td>2</td>\n",
       "      <td>2</td>\n",
       "      <td>...</td>\n",
       "      <td>4</td>\n",
       "      <td>2</td>\n",
       "      <td>2</td>\n",
       "      <td>4</td>\n",
       "      <td>4</td>\n",
       "      <td>3</td>\n",
       "      <td>3</td>\n",
       "      <td>2</td>\n",
       "      <td>3</td>\n",
       "      <td>3</td>\n",
       "    </tr>\n",
       "    <tr>\n",
       "      <th>3</th>\n",
       "      <td>3</td>\n",
       "      <td>4</td>\n",
       "      <td>4.0</td>\n",
       "      <td>4</td>\n",
       "      <td>2</td>\n",
       "      <td>0</td>\n",
       "      <td>1</td>\n",
       "      <td>0</td>\n",
       "      <td>0</td>\n",
       "      <td>0</td>\n",
       "      <td>...</td>\n",
       "      <td>4</td>\n",
       "      <td>4</td>\n",
       "      <td>4</td>\n",
       "      <td>3</td>\n",
       "      <td>4</td>\n",
       "      <td>1</td>\n",
       "      <td>2</td>\n",
       "      <td>1</td>\n",
       "      <td>2</td>\n",
       "      <td>0</td>\n",
       "    </tr>\n",
       "    <tr>\n",
       "      <th>4</th>\n",
       "      <td>2</td>\n",
       "      <td>4</td>\n",
       "      <td>4.0</td>\n",
       "      <td>4</td>\n",
       "      <td>1</td>\n",
       "      <td>0</td>\n",
       "      <td>1</td>\n",
       "      <td>0</td>\n",
       "      <td>1</td>\n",
       "      <td>2</td>\n",
       "      <td>...</td>\n",
       "      <td>4</td>\n",
       "      <td>4</td>\n",
       "      <td>4</td>\n",
       "      <td>4</td>\n",
       "      <td>4</td>\n",
       "      <td>4</td>\n",
       "      <td>4</td>\n",
       "      <td>3</td>\n",
       "      <td>4</td>\n",
       "      <td>4</td>\n",
       "    </tr>\n",
       "    <tr>\n",
       "      <th>5</th>\n",
       "      <td>1</td>\n",
       "      <td>3</td>\n",
       "      <td>3.0</td>\n",
       "      <td>3</td>\n",
       "      <td>2</td>\n",
       "      <td>0</td>\n",
       "      <td>2</td>\n",
       "      <td>1</td>\n",
       "      <td>1</td>\n",
       "      <td>0</td>\n",
       "      <td>...</td>\n",
       "      <td>4</td>\n",
       "      <td>3</td>\n",
       "      <td>3</td>\n",
       "      <td>3</td>\n",
       "      <td>3</td>\n",
       "      <td>4</td>\n",
       "      <td>4</td>\n",
       "      <td>4</td>\n",
       "      <td>4</td>\n",
       "      <td>4</td>\n",
       "    </tr>\n",
       "    <tr>\n",
       "      <th>6</th>\n",
       "      <td>2</td>\n",
       "      <td>4</td>\n",
       "      <td>3.0</td>\n",
       "      <td>4</td>\n",
       "      <td>0</td>\n",
       "      <td>0</td>\n",
       "      <td>1</td>\n",
       "      <td>1</td>\n",
       "      <td>2</td>\n",
       "      <td>1</td>\n",
       "      <td>...</td>\n",
       "      <td>4</td>\n",
       "      <td>4</td>\n",
       "      <td>4</td>\n",
       "      <td>4</td>\n",
       "      <td>4</td>\n",
       "      <td>4</td>\n",
       "      <td>4</td>\n",
       "      <td>4</td>\n",
       "      <td>4</td>\n",
       "      <td>4</td>\n",
       "    </tr>\n",
       "    <tr>\n",
       "      <th>7</th>\n",
       "      <td>1</td>\n",
       "      <td>4</td>\n",
       "      <td>4.0</td>\n",
       "      <td>4</td>\n",
       "      <td>0</td>\n",
       "      <td>0</td>\n",
       "      <td>2</td>\n",
       "      <td>1</td>\n",
       "      <td>1</td>\n",
       "      <td>0</td>\n",
       "      <td>...</td>\n",
       "      <td>4</td>\n",
       "      <td>4</td>\n",
       "      <td>4</td>\n",
       "      <td>4</td>\n",
       "      <td>4</td>\n",
       "      <td>3</td>\n",
       "      <td>3</td>\n",
       "      <td>3</td>\n",
       "      <td>4</td>\n",
       "      <td>4</td>\n",
       "    </tr>\n",
       "    <tr>\n",
       "      <th>8</th>\n",
       "      <td>1</td>\n",
       "      <td>3</td>\n",
       "      <td>NaN</td>\n",
       "      <td>0</td>\n",
       "      <td>0</td>\n",
       "      <td>0</td>\n",
       "      <td>0</td>\n",
       "      <td>0</td>\n",
       "      <td>0</td>\n",
       "      <td>0</td>\n",
       "      <td>...</td>\n",
       "      <td>2</td>\n",
       "      <td>2</td>\n",
       "      <td>4</td>\n",
       "      <td>4</td>\n",
       "      <td>4</td>\n",
       "      <td>3</td>\n",
       "      <td>3</td>\n",
       "      <td>1</td>\n",
       "      <td>4</td>\n",
       "      <td>4</td>\n",
       "    </tr>\n",
       "    <tr>\n",
       "      <th>9</th>\n",
       "      <td>1</td>\n",
       "      <td>4</td>\n",
       "      <td>0.0</td>\n",
       "      <td>4</td>\n",
       "      <td>0</td>\n",
       "      <td>0</td>\n",
       "      <td>0</td>\n",
       "      <td>0</td>\n",
       "      <td>0</td>\n",
       "      <td>0</td>\n",
       "      <td>...</td>\n",
       "      <td>4</td>\n",
       "      <td>3</td>\n",
       "      <td>4</td>\n",
       "      <td>4</td>\n",
       "      <td>4</td>\n",
       "      <td>2</td>\n",
       "      <td>2</td>\n",
       "      <td>3</td>\n",
       "      <td>3</td>\n",
       "      <td>4</td>\n",
       "    </tr>\n",
       "    <tr>\n",
       "      <th>10</th>\n",
       "      <td>2</td>\n",
       "      <td>4</td>\n",
       "      <td>3.0</td>\n",
       "      <td>4</td>\n",
       "      <td>2</td>\n",
       "      <td>0</td>\n",
       "      <td>1</td>\n",
       "      <td>0</td>\n",
       "      <td>2</td>\n",
       "      <td>2</td>\n",
       "      <td>...</td>\n",
       "      <td>4</td>\n",
       "      <td>3</td>\n",
       "      <td>4</td>\n",
       "      <td>4</td>\n",
       "      <td>4</td>\n",
       "      <td>2</td>\n",
       "      <td>3</td>\n",
       "      <td>2</td>\n",
       "      <td>4</td>\n",
       "      <td>4</td>\n",
       "    </tr>\n",
       "  </tbody>\n",
       "</table>\n",
       "<p>11 rows × 41 columns</p>\n",
       "</div>"
      ],
      "text/plain": [
       "    pre1.1  pre1.2  pre1.3  pre1.4  pre2.1  pre2.2  pre2.3  pre2.4  pre2.5  \\\n",
       "0        1       4     4.0       4       2       0       4       0       4   \n",
       "1        1       4     3.0       4       1       4       4       0       1   \n",
       "2        2       4     4.0       4       2       1       4       1       2   \n",
       "3        3       4     4.0       4       2       0       1       0       0   \n",
       "4        2       4     4.0       4       1       0       1       0       1   \n",
       "5        1       3     3.0       3       2       0       2       1       1   \n",
       "6        2       4     3.0       4       0       0       1       1       2   \n",
       "7        1       4     4.0       4       0       0       2       1       1   \n",
       "8        1       3     NaN       0       0       0       0       0       0   \n",
       "9        1       4     0.0       4       0       0       0       0       0   \n",
       "10       2       4     3.0       4       2       0       1       0       2   \n",
       "\n",
       "    pre2.6  ...  post2.8  post3.1  post3.2  post3.3  post3.4  post3.5  \\\n",
       "0        1  ...        4        4        4        4        4        4   \n",
       "1        4  ...        2        3        3        4        4        2   \n",
       "2        2  ...        4        2        2        4        4        3   \n",
       "3        0  ...        4        4        4        3        4        1   \n",
       "4        2  ...        4        4        4        4        4        4   \n",
       "5        0  ...        4        3        3        3        3        4   \n",
       "6        1  ...        4        4        4        4        4        4   \n",
       "7        0  ...        4        4        4        4        4        3   \n",
       "8        0  ...        2        2        4        4        4        3   \n",
       "9        0  ...        4        3        4        4        4        2   \n",
       "10       2  ...        4        3        4        4        4        2   \n",
       "\n",
       "    post3.6  post3.7 post3.8 post3.9  \n",
       "0         4        4       4       4  \n",
       "1         3        2       4       4  \n",
       "2         3        2       3       3  \n",
       "3         2        1       2       0  \n",
       "4         4        3       4       4  \n",
       "5         4        4       4       4  \n",
       "6         4        4       4       4  \n",
       "7         3        3       4       4  \n",
       "8         3        1       4       4  \n",
       "9         2        3       3       4  \n",
       "10        3        2       4       4  \n",
       "\n",
       "[11 rows x 41 columns]"
      ]
     },
     "execution_count": 10,
     "metadata": {},
     "output_type": "execute_result"
    }
   ],
   "source": [
    "# Convert responses to numerical values\n",
    "scale = {'Strongly disagree':1, 'Disagree':2,'Neither agree nor disagree':0, 'Agree':3,'Strongly agree': 4,\\\n",
    "      'Not at all confident':0,'A little bit confident':1,'Somewhat confident':2,'Confident':3,'Very confident':4,\\\n",
    "      'Very unlikely': 0, 'Somewhat unlikely':1,'Uncertain':2, 'Somewhat likely':3, 'Very likely':4}\n",
    "data.replace(scale, inplace=True)\n",
    "data"
   ]
  },
  {
   "cell_type": "markdown",
   "metadata": {},
   "source": [
    "## Computing the Average of Pre and Post Survey Responses"
   ]
  },
  {
   "cell_type": "code",
   "execution_count": 11,
   "metadata": {},
   "outputs": [
    {
     "data": {
      "text/html": [
       "<div>\n",
       "<style scoped>\n",
       "    .dataframe tbody tr th:only-of-type {\n",
       "        vertical-align: middle;\n",
       "    }\n",
       "\n",
       "    .dataframe tbody tr th {\n",
       "        vertical-align: top;\n",
       "    }\n",
       "\n",
       "    .dataframe thead th {\n",
       "        text-align: right;\n",
       "    }\n",
       "</style>\n",
       "<table border=\"1\" class=\"dataframe\">\n",
       "  <thead>\n",
       "    <tr style=\"text-align: right;\">\n",
       "      <th></th>\n",
       "      <th>pre1.1</th>\n",
       "      <th>pre1.2</th>\n",
       "      <th>pre1.3</th>\n",
       "      <th>pre1.4</th>\n",
       "      <th>pre2.1</th>\n",
       "      <th>pre2.2</th>\n",
       "      <th>pre2.3</th>\n",
       "      <th>pre2.4</th>\n",
       "      <th>pre2.5</th>\n",
       "      <th>pre2.6</th>\n",
       "      <th>...</th>\n",
       "      <th>post2.8</th>\n",
       "      <th>post3.1</th>\n",
       "      <th>post3.2</th>\n",
       "      <th>post3.3</th>\n",
       "      <th>post3.4</th>\n",
       "      <th>post3.5</th>\n",
       "      <th>post3.6</th>\n",
       "      <th>post3.7</th>\n",
       "      <th>post3.8</th>\n",
       "      <th>post3.9</th>\n",
       "    </tr>\n",
       "  </thead>\n",
       "  <tbody>\n",
       "    <tr>\n",
       "      <th>count</th>\n",
       "      <td>11.000000</td>\n",
       "      <td>11.000000</td>\n",
       "      <td>10.000000</td>\n",
       "      <td>11.000000</td>\n",
       "      <td>11.000000</td>\n",
       "      <td>11.000000</td>\n",
       "      <td>11.000000</td>\n",
       "      <td>11.000000</td>\n",
       "      <td>11.000000</td>\n",
       "      <td>11.000000</td>\n",
       "      <td>...</td>\n",
       "      <td>11.000000</td>\n",
       "      <td>11.000000</td>\n",
       "      <td>11.000000</td>\n",
       "      <td>11.000000</td>\n",
       "      <td>11.000000</td>\n",
       "      <td>11.000000</td>\n",
       "      <td>11.000000</td>\n",
       "      <td>11.000000</td>\n",
       "      <td>11.000000</td>\n",
       "      <td>11.000000</td>\n",
       "    </tr>\n",
       "    <tr>\n",
       "      <th>mean</th>\n",
       "      <td>1.545455</td>\n",
       "      <td>3.818182</td>\n",
       "      <td>3.200000</td>\n",
       "      <td>3.545455</td>\n",
       "      <td>1.090909</td>\n",
       "      <td>0.454545</td>\n",
       "      <td>1.818182</td>\n",
       "      <td>0.363636</td>\n",
       "      <td>1.272727</td>\n",
       "      <td>1.090909</td>\n",
       "      <td>...</td>\n",
       "      <td>3.636364</td>\n",
       "      <td>3.272727</td>\n",
       "      <td>3.636364</td>\n",
       "      <td>3.818182</td>\n",
       "      <td>3.909091</td>\n",
       "      <td>2.909091</td>\n",
       "      <td>3.181818</td>\n",
       "      <td>2.636364</td>\n",
       "      <td>3.636364</td>\n",
       "      <td>3.545455</td>\n",
       "    </tr>\n",
       "    <tr>\n",
       "      <th>std</th>\n",
       "      <td>0.687552</td>\n",
       "      <td>0.404520</td>\n",
       "      <td>1.229273</td>\n",
       "      <td>1.213560</td>\n",
       "      <td>0.943880</td>\n",
       "      <td>1.213560</td>\n",
       "      <td>1.537412</td>\n",
       "      <td>0.504525</td>\n",
       "      <td>1.190874</td>\n",
       "      <td>1.300350</td>\n",
       "      <td>...</td>\n",
       "      <td>0.809040</td>\n",
       "      <td>0.786245</td>\n",
       "      <td>0.674200</td>\n",
       "      <td>0.404520</td>\n",
       "      <td>0.301511</td>\n",
       "      <td>1.044466</td>\n",
       "      <td>0.750757</td>\n",
       "      <td>1.120065</td>\n",
       "      <td>0.674200</td>\n",
       "      <td>1.213560</td>\n",
       "    </tr>\n",
       "    <tr>\n",
       "      <th>min</th>\n",
       "      <td>1.000000</td>\n",
       "      <td>3.000000</td>\n",
       "      <td>0.000000</td>\n",
       "      <td>0.000000</td>\n",
       "      <td>0.000000</td>\n",
       "      <td>0.000000</td>\n",
       "      <td>0.000000</td>\n",
       "      <td>0.000000</td>\n",
       "      <td>0.000000</td>\n",
       "      <td>0.000000</td>\n",
       "      <td>...</td>\n",
       "      <td>2.000000</td>\n",
       "      <td>2.000000</td>\n",
       "      <td>2.000000</td>\n",
       "      <td>3.000000</td>\n",
       "      <td>3.000000</td>\n",
       "      <td>1.000000</td>\n",
       "      <td>2.000000</td>\n",
       "      <td>1.000000</td>\n",
       "      <td>2.000000</td>\n",
       "      <td>0.000000</td>\n",
       "    </tr>\n",
       "    <tr>\n",
       "      <th>25%</th>\n",
       "      <td>1.000000</td>\n",
       "      <td>4.000000</td>\n",
       "      <td>3.000000</td>\n",
       "      <td>4.000000</td>\n",
       "      <td>0.000000</td>\n",
       "      <td>0.000000</td>\n",
       "      <td>1.000000</td>\n",
       "      <td>0.000000</td>\n",
       "      <td>0.500000</td>\n",
       "      <td>0.000000</td>\n",
       "      <td>...</td>\n",
       "      <td>4.000000</td>\n",
       "      <td>3.000000</td>\n",
       "      <td>3.500000</td>\n",
       "      <td>4.000000</td>\n",
       "      <td>4.000000</td>\n",
       "      <td>2.000000</td>\n",
       "      <td>3.000000</td>\n",
       "      <td>2.000000</td>\n",
       "      <td>3.500000</td>\n",
       "      <td>4.000000</td>\n",
       "    </tr>\n",
       "    <tr>\n",
       "      <th>50%</th>\n",
       "      <td>1.000000</td>\n",
       "      <td>4.000000</td>\n",
       "      <td>3.500000</td>\n",
       "      <td>4.000000</td>\n",
       "      <td>1.000000</td>\n",
       "      <td>0.000000</td>\n",
       "      <td>1.000000</td>\n",
       "      <td>0.000000</td>\n",
       "      <td>1.000000</td>\n",
       "      <td>1.000000</td>\n",
       "      <td>...</td>\n",
       "      <td>4.000000</td>\n",
       "      <td>3.000000</td>\n",
       "      <td>4.000000</td>\n",
       "      <td>4.000000</td>\n",
       "      <td>4.000000</td>\n",
       "      <td>3.000000</td>\n",
       "      <td>3.000000</td>\n",
       "      <td>3.000000</td>\n",
       "      <td>4.000000</td>\n",
       "      <td>4.000000</td>\n",
       "    </tr>\n",
       "    <tr>\n",
       "      <th>75%</th>\n",
       "      <td>2.000000</td>\n",
       "      <td>4.000000</td>\n",
       "      <td>4.000000</td>\n",
       "      <td>4.000000</td>\n",
       "      <td>2.000000</td>\n",
       "      <td>0.000000</td>\n",
       "      <td>3.000000</td>\n",
       "      <td>1.000000</td>\n",
       "      <td>2.000000</td>\n",
       "      <td>2.000000</td>\n",
       "      <td>...</td>\n",
       "      <td>4.000000</td>\n",
       "      <td>4.000000</td>\n",
       "      <td>4.000000</td>\n",
       "      <td>4.000000</td>\n",
       "      <td>4.000000</td>\n",
       "      <td>4.000000</td>\n",
       "      <td>4.000000</td>\n",
       "      <td>3.500000</td>\n",
       "      <td>4.000000</td>\n",
       "      <td>4.000000</td>\n",
       "    </tr>\n",
       "    <tr>\n",
       "      <th>max</th>\n",
       "      <td>3.000000</td>\n",
       "      <td>4.000000</td>\n",
       "      <td>4.000000</td>\n",
       "      <td>4.000000</td>\n",
       "      <td>2.000000</td>\n",
       "      <td>4.000000</td>\n",
       "      <td>4.000000</td>\n",
       "      <td>1.000000</td>\n",
       "      <td>4.000000</td>\n",
       "      <td>4.000000</td>\n",
       "      <td>...</td>\n",
       "      <td>4.000000</td>\n",
       "      <td>4.000000</td>\n",
       "      <td>4.000000</td>\n",
       "      <td>4.000000</td>\n",
       "      <td>4.000000</td>\n",
       "      <td>4.000000</td>\n",
       "      <td>4.000000</td>\n",
       "      <td>4.000000</td>\n",
       "      <td>4.000000</td>\n",
       "      <td>4.000000</td>\n",
       "    </tr>\n",
       "  </tbody>\n",
       "</table>\n",
       "<p>8 rows × 39 columns</p>\n",
       "</div>"
      ],
      "text/plain": [
       "          pre1.1     pre1.2     pre1.3     pre1.4     pre2.1     pre2.2  \\\n",
       "count  11.000000  11.000000  10.000000  11.000000  11.000000  11.000000   \n",
       "mean    1.545455   3.818182   3.200000   3.545455   1.090909   0.454545   \n",
       "std     0.687552   0.404520   1.229273   1.213560   0.943880   1.213560   \n",
       "min     1.000000   3.000000   0.000000   0.000000   0.000000   0.000000   \n",
       "25%     1.000000   4.000000   3.000000   4.000000   0.000000   0.000000   \n",
       "50%     1.000000   4.000000   3.500000   4.000000   1.000000   0.000000   \n",
       "75%     2.000000   4.000000   4.000000   4.000000   2.000000   0.000000   \n",
       "max     3.000000   4.000000   4.000000   4.000000   2.000000   4.000000   \n",
       "\n",
       "          pre2.3     pre2.4     pre2.5     pre2.6  ...    post2.8    post3.1  \\\n",
       "count  11.000000  11.000000  11.000000  11.000000  ...  11.000000  11.000000   \n",
       "mean    1.818182   0.363636   1.272727   1.090909  ...   3.636364   3.272727   \n",
       "std     1.537412   0.504525   1.190874   1.300350  ...   0.809040   0.786245   \n",
       "min     0.000000   0.000000   0.000000   0.000000  ...   2.000000   2.000000   \n",
       "25%     1.000000   0.000000   0.500000   0.000000  ...   4.000000   3.000000   \n",
       "50%     1.000000   0.000000   1.000000   1.000000  ...   4.000000   3.000000   \n",
       "75%     3.000000   1.000000   2.000000   2.000000  ...   4.000000   4.000000   \n",
       "max     4.000000   1.000000   4.000000   4.000000  ...   4.000000   4.000000   \n",
       "\n",
       "         post3.2    post3.3    post3.4    post3.5    post3.6    post3.7  \\\n",
       "count  11.000000  11.000000  11.000000  11.000000  11.000000  11.000000   \n",
       "mean    3.636364   3.818182   3.909091   2.909091   3.181818   2.636364   \n",
       "std     0.674200   0.404520   0.301511   1.044466   0.750757   1.120065   \n",
       "min     2.000000   3.000000   3.000000   1.000000   2.000000   1.000000   \n",
       "25%     3.500000   4.000000   4.000000   2.000000   3.000000   2.000000   \n",
       "50%     4.000000   4.000000   4.000000   3.000000   3.000000   3.000000   \n",
       "75%     4.000000   4.000000   4.000000   4.000000   4.000000   3.500000   \n",
       "max     4.000000   4.000000   4.000000   4.000000   4.000000   4.000000   \n",
       "\n",
       "         post3.8    post3.9  \n",
       "count  11.000000  11.000000  \n",
       "mean    3.636364   3.545455  \n",
       "std     0.674200   1.213560  \n",
       "min     2.000000   0.000000  \n",
       "25%     3.500000   4.000000  \n",
       "50%     4.000000   4.000000  \n",
       "75%     4.000000   4.000000  \n",
       "max     4.000000   4.000000  \n",
       "\n",
       "[8 rows x 39 columns]"
      ]
     },
     "execution_count": 11,
     "metadata": {},
     "output_type": "execute_result"
    }
   ],
   "source": [
    "data.describe()"
   ]
  },
  {
   "cell_type": "code",
   "execution_count": 12,
   "metadata": {
    "scrolled": true
   },
   "outputs": [
    {
     "data": {
      "text/html": [
       "<div>\n",
       "<style scoped>\n",
       "    .dataframe tbody tr th:only-of-type {\n",
       "        vertical-align: middle;\n",
       "    }\n",
       "\n",
       "    .dataframe tbody tr th {\n",
       "        vertical-align: top;\n",
       "    }\n",
       "\n",
       "    .dataframe thead th {\n",
       "        text-align: right;\n",
       "    }\n",
       "</style>\n",
       "<table border=\"1\" class=\"dataframe\">\n",
       "  <thead>\n",
       "    <tr style=\"text-align: right;\">\n",
       "      <th></th>\n",
       "      <th>Pre-Course Average</th>\n",
       "      <th>Post-Course Average</th>\n",
       "      <th>Difference (Post - Pre)</th>\n",
       "    </tr>\n",
       "  </thead>\n",
       "  <tbody>\n",
       "    <tr>\n",
       "      <th>Q1.1</th>\n",
       "      <td>1.545</td>\n",
       "      <td>2.636</td>\n",
       "      <td>1.091</td>\n",
       "    </tr>\n",
       "    <tr>\n",
       "      <th>Q1.2</th>\n",
       "      <td>3.818</td>\n",
       "      <td>3.727</td>\n",
       "      <td>-0.091</td>\n",
       "    </tr>\n",
       "    <tr>\n",
       "      <th>Q1.3</th>\n",
       "      <td>3.200</td>\n",
       "      <td>3.636</td>\n",
       "      <td>0.436</td>\n",
       "    </tr>\n",
       "    <tr>\n",
       "      <th>Q1.4</th>\n",
       "      <td>3.545</td>\n",
       "      <td>3.636</td>\n",
       "      <td>0.091</td>\n",
       "    </tr>\n",
       "    <tr>\n",
       "      <th>Q2.1</th>\n",
       "      <td>1.091</td>\n",
       "      <td>2.818</td>\n",
       "      <td>1.727</td>\n",
       "    </tr>\n",
       "    <tr>\n",
       "      <th>Q2.2</th>\n",
       "      <td>0.455</td>\n",
       "      <td>1.727</td>\n",
       "      <td>1.272</td>\n",
       "    </tr>\n",
       "    <tr>\n",
       "      <th>Q2.3</th>\n",
       "      <td>1.818</td>\n",
       "      <td>3.300</td>\n",
       "      <td>1.482</td>\n",
       "    </tr>\n",
       "    <tr>\n",
       "      <th>Q2.4</th>\n",
       "      <td>0.364</td>\n",
       "      <td>3.000</td>\n",
       "      <td>2.636</td>\n",
       "    </tr>\n",
       "    <tr>\n",
       "      <th>Q2.5</th>\n",
       "      <td>1.273</td>\n",
       "      <td>3.545</td>\n",
       "      <td>2.272</td>\n",
       "    </tr>\n",
       "    <tr>\n",
       "      <th>Q2.6</th>\n",
       "      <td>1.091</td>\n",
       "      <td>2.909</td>\n",
       "      <td>1.818</td>\n",
       "    </tr>\n",
       "    <tr>\n",
       "      <th>Q2.7</th>\n",
       "      <td>1.000</td>\n",
       "      <td>2.909</td>\n",
       "      <td>1.909</td>\n",
       "    </tr>\n",
       "    <tr>\n",
       "      <th>Q2.8</th>\n",
       "      <td>1.455</td>\n",
       "      <td>3.636</td>\n",
       "      <td>2.181</td>\n",
       "    </tr>\n",
       "  </tbody>\n",
       "</table>\n",
       "</div>"
      ],
      "text/plain": [
       "      Pre-Course Average  Post-Course Average  Difference (Post - Pre)\n",
       "Q1.1               1.545                2.636                    1.091\n",
       "Q1.2               3.818                3.727                   -0.091\n",
       "Q1.3               3.200                3.636                    0.436\n",
       "Q1.4               3.545                3.636                    0.091\n",
       "Q2.1               1.091                2.818                    1.727\n",
       "Q2.2               0.455                1.727                    1.272\n",
       "Q2.3               1.818                3.300                    1.482\n",
       "Q2.4               0.364                3.000                    2.636\n",
       "Q2.5               1.273                3.545                    2.272\n",
       "Q2.6               1.091                2.909                    1.818\n",
       "Q2.7               1.000                2.909                    1.909\n",
       "Q2.8               1.455                3.636                    2.181"
      ]
     },
     "execution_count": 12,
     "metadata": {},
     "output_type": "execute_result"
    }
   ],
   "source": [
    "# Compute the average of responses for q1.1-q1.4 & q2.1-q2.8\n",
    "pre_averages = round(data.iloc[:,0:12].mean(),3).array\n",
    "post_averages= round(data.iloc[:,20:32].mean(),3).array \n",
    "diff = (post_averages - pre_averages) \n",
    "diff\n",
    "\n",
    "# Create a new dataframe to store the averages and difference\n",
    "questions = ['Q1.1', 'Q1.2', 'Q1.3', 'Q1.4', 'Q2.1', 'Q2.2','Q2.3', 'Q2.4', 'Q2.5', 'Q2.6', 'Q2.7', 'Q2.8']\n",
    "new_data = {'Pre-Course Average': pre_averages, \"Post-Course Average\" : post_averages, \"Difference (Post - Pre)\" : diff}\n",
    "\n",
    "df = pd.DataFrame(new_data, index=questions)\n",
    "df"
   ]
  },
  {
   "cell_type": "markdown",
   "metadata": {},
   "source": [
    "## Visualizing the Change in Confidence Level"
   ]
  },
  {
   "cell_type": "code",
   "execution_count": 13,
   "metadata": {},
   "outputs": [
    {
     "data": {
      "application/vnd.plotly.v1+json": {
       "config": {
        "linkText": "Export to plot.ly",
        "plotlyServerURL": "https://plot.ly",
        "showLink": true
       },
       "data": [
        {
         "marker": {
          "color": "rgba(64, 224, 208, 0.6)",
          "line": {
           "color": "rgba(64, 224, 208, 1.0)",
           "width": 1
          }
         },
         "name": "Pre-Course Average",
         "orientation": "v",
         "text": "",
         "type": "bar",
         "x": [
          "Q2.1",
          "Q2.2",
          "Q2.3",
          "Q2.4",
          "Q2.5",
          "Q2.6",
          "Q2.7",
          "Q2.8"
         ],
         "y": [
          1.091,
          0.455,
          1.818,
          0.364,
          1.273,
          1.091,
          1,
          1.455
         ]
        },
        {
         "marker": {
          "color": "rgba(100, 149, 237, 0.6)",
          "line": {
           "color": "rgba(100, 149, 237, 1.0)",
           "width": 1
          }
         },
         "name": "Post-Course Average",
         "orientation": "v",
         "text": "",
         "type": "bar",
         "x": [
          "Q2.1",
          "Q2.2",
          "Q2.3",
          "Q2.4",
          "Q2.5",
          "Q2.6",
          "Q2.7",
          "Q2.8"
         ],
         "y": [
          2.818,
          1.727,
          3.3,
          3,
          3.545,
          2.909,
          2.909,
          3.636
         ]
        }
       ],
       "layout": {
        "legend": {
         "bgcolor": "#F5F6F9",
         "font": {
          "color": "#4D5663"
         }
        },
        "paper_bgcolor": "#F5F6F9",
        "plot_bgcolor": "#F5F6F9",
        "template": {
         "data": {
          "bar": [
           {
            "error_x": {
             "color": "#2a3f5f"
            },
            "error_y": {
             "color": "#2a3f5f"
            },
            "marker": {
             "line": {
              "color": "#E5ECF6",
              "width": 0.5
             }
            },
            "type": "bar"
           }
          ],
          "barpolar": [
           {
            "marker": {
             "line": {
              "color": "#E5ECF6",
              "width": 0.5
             }
            },
            "type": "barpolar"
           }
          ],
          "carpet": [
           {
            "aaxis": {
             "endlinecolor": "#2a3f5f",
             "gridcolor": "white",
             "linecolor": "white",
             "minorgridcolor": "white",
             "startlinecolor": "#2a3f5f"
            },
            "baxis": {
             "endlinecolor": "#2a3f5f",
             "gridcolor": "white",
             "linecolor": "white",
             "minorgridcolor": "white",
             "startlinecolor": "#2a3f5f"
            },
            "type": "carpet"
           }
          ],
          "choropleth": [
           {
            "colorbar": {
             "outlinewidth": 0,
             "ticks": ""
            },
            "type": "choropleth"
           }
          ],
          "contour": [
           {
            "colorbar": {
             "outlinewidth": 0,
             "ticks": ""
            },
            "colorscale": [
             [
              0,
              "#0d0887"
             ],
             [
              0.1111111111111111,
              "#46039f"
             ],
             [
              0.2222222222222222,
              "#7201a8"
             ],
             [
              0.3333333333333333,
              "#9c179e"
             ],
             [
              0.4444444444444444,
              "#bd3786"
             ],
             [
              0.5555555555555556,
              "#d8576b"
             ],
             [
              0.6666666666666666,
              "#ed7953"
             ],
             [
              0.7777777777777778,
              "#fb9f3a"
             ],
             [
              0.8888888888888888,
              "#fdca26"
             ],
             [
              1,
              "#f0f921"
             ]
            ],
            "type": "contour"
           }
          ],
          "contourcarpet": [
           {
            "colorbar": {
             "outlinewidth": 0,
             "ticks": ""
            },
            "type": "contourcarpet"
           }
          ],
          "heatmap": [
           {
            "colorbar": {
             "outlinewidth": 0,
             "ticks": ""
            },
            "colorscale": [
             [
              0,
              "#0d0887"
             ],
             [
              0.1111111111111111,
              "#46039f"
             ],
             [
              0.2222222222222222,
              "#7201a8"
             ],
             [
              0.3333333333333333,
              "#9c179e"
             ],
             [
              0.4444444444444444,
              "#bd3786"
             ],
             [
              0.5555555555555556,
              "#d8576b"
             ],
             [
              0.6666666666666666,
              "#ed7953"
             ],
             [
              0.7777777777777778,
              "#fb9f3a"
             ],
             [
              0.8888888888888888,
              "#fdca26"
             ],
             [
              1,
              "#f0f921"
             ]
            ],
            "type": "heatmap"
           }
          ],
          "heatmapgl": [
           {
            "colorbar": {
             "outlinewidth": 0,
             "ticks": ""
            },
            "colorscale": [
             [
              0,
              "#0d0887"
             ],
             [
              0.1111111111111111,
              "#46039f"
             ],
             [
              0.2222222222222222,
              "#7201a8"
             ],
             [
              0.3333333333333333,
              "#9c179e"
             ],
             [
              0.4444444444444444,
              "#bd3786"
             ],
             [
              0.5555555555555556,
              "#d8576b"
             ],
             [
              0.6666666666666666,
              "#ed7953"
             ],
             [
              0.7777777777777778,
              "#fb9f3a"
             ],
             [
              0.8888888888888888,
              "#fdca26"
             ],
             [
              1,
              "#f0f921"
             ]
            ],
            "type": "heatmapgl"
           }
          ],
          "histogram": [
           {
            "marker": {
             "colorbar": {
              "outlinewidth": 0,
              "ticks": ""
             }
            },
            "type": "histogram"
           }
          ],
          "histogram2d": [
           {
            "colorbar": {
             "outlinewidth": 0,
             "ticks": ""
            },
            "colorscale": [
             [
              0,
              "#0d0887"
             ],
             [
              0.1111111111111111,
              "#46039f"
             ],
             [
              0.2222222222222222,
              "#7201a8"
             ],
             [
              0.3333333333333333,
              "#9c179e"
             ],
             [
              0.4444444444444444,
              "#bd3786"
             ],
             [
              0.5555555555555556,
              "#d8576b"
             ],
             [
              0.6666666666666666,
              "#ed7953"
             ],
             [
              0.7777777777777778,
              "#fb9f3a"
             ],
             [
              0.8888888888888888,
              "#fdca26"
             ],
             [
              1,
              "#f0f921"
             ]
            ],
            "type": "histogram2d"
           }
          ],
          "histogram2dcontour": [
           {
            "colorbar": {
             "outlinewidth": 0,
             "ticks": ""
            },
            "colorscale": [
             [
              0,
              "#0d0887"
             ],
             [
              0.1111111111111111,
              "#46039f"
             ],
             [
              0.2222222222222222,
              "#7201a8"
             ],
             [
              0.3333333333333333,
              "#9c179e"
             ],
             [
              0.4444444444444444,
              "#bd3786"
             ],
             [
              0.5555555555555556,
              "#d8576b"
             ],
             [
              0.6666666666666666,
              "#ed7953"
             ],
             [
              0.7777777777777778,
              "#fb9f3a"
             ],
             [
              0.8888888888888888,
              "#fdca26"
             ],
             [
              1,
              "#f0f921"
             ]
            ],
            "type": "histogram2dcontour"
           }
          ],
          "mesh3d": [
           {
            "colorbar": {
             "outlinewidth": 0,
             "ticks": ""
            },
            "type": "mesh3d"
           }
          ],
          "parcoords": [
           {
            "line": {
             "colorbar": {
              "outlinewidth": 0,
              "ticks": ""
             }
            },
            "type": "parcoords"
           }
          ],
          "pie": [
           {
            "automargin": true,
            "type": "pie"
           }
          ],
          "scatter": [
           {
            "marker": {
             "colorbar": {
              "outlinewidth": 0,
              "ticks": ""
             }
            },
            "type": "scatter"
           }
          ],
          "scatter3d": [
           {
            "line": {
             "colorbar": {
              "outlinewidth": 0,
              "ticks": ""
             }
            },
            "marker": {
             "colorbar": {
              "outlinewidth": 0,
              "ticks": ""
             }
            },
            "type": "scatter3d"
           }
          ],
          "scattercarpet": [
           {
            "marker": {
             "colorbar": {
              "outlinewidth": 0,
              "ticks": ""
             }
            },
            "type": "scattercarpet"
           }
          ],
          "scattergeo": [
           {
            "marker": {
             "colorbar": {
              "outlinewidth": 0,
              "ticks": ""
             }
            },
            "type": "scattergeo"
           }
          ],
          "scattergl": [
           {
            "marker": {
             "colorbar": {
              "outlinewidth": 0,
              "ticks": ""
             }
            },
            "type": "scattergl"
           }
          ],
          "scattermapbox": [
           {
            "marker": {
             "colorbar": {
              "outlinewidth": 0,
              "ticks": ""
             }
            },
            "type": "scattermapbox"
           }
          ],
          "scatterpolar": [
           {
            "marker": {
             "colorbar": {
              "outlinewidth": 0,
              "ticks": ""
             }
            },
            "type": "scatterpolar"
           }
          ],
          "scatterpolargl": [
           {
            "marker": {
             "colorbar": {
              "outlinewidth": 0,
              "ticks": ""
             }
            },
            "type": "scatterpolargl"
           }
          ],
          "scatterternary": [
           {
            "marker": {
             "colorbar": {
              "outlinewidth": 0,
              "ticks": ""
             }
            },
            "type": "scatterternary"
           }
          ],
          "surface": [
           {
            "colorbar": {
             "outlinewidth": 0,
             "ticks": ""
            },
            "colorscale": [
             [
              0,
              "#0d0887"
             ],
             [
              0.1111111111111111,
              "#46039f"
             ],
             [
              0.2222222222222222,
              "#7201a8"
             ],
             [
              0.3333333333333333,
              "#9c179e"
             ],
             [
              0.4444444444444444,
              "#bd3786"
             ],
             [
              0.5555555555555556,
              "#d8576b"
             ],
             [
              0.6666666666666666,
              "#ed7953"
             ],
             [
              0.7777777777777778,
              "#fb9f3a"
             ],
             [
              0.8888888888888888,
              "#fdca26"
             ],
             [
              1,
              "#f0f921"
             ]
            ],
            "type": "surface"
           }
          ],
          "table": [
           {
            "cells": {
             "fill": {
              "color": "#EBF0F8"
             },
             "line": {
              "color": "white"
             }
            },
            "header": {
             "fill": {
              "color": "#C8D4E3"
             },
             "line": {
              "color": "white"
             }
            },
            "type": "table"
           }
          ]
         },
         "layout": {
          "annotationdefaults": {
           "arrowcolor": "#2a3f5f",
           "arrowhead": 0,
           "arrowwidth": 1
          },
          "autotypenumbers": "strict",
          "coloraxis": {
           "colorbar": {
            "outlinewidth": 0,
            "ticks": ""
           }
          },
          "colorscale": {
           "diverging": [
            [
             0,
             "#8e0152"
            ],
            [
             0.1,
             "#c51b7d"
            ],
            [
             0.2,
             "#de77ae"
            ],
            [
             0.3,
             "#f1b6da"
            ],
            [
             0.4,
             "#fde0ef"
            ],
            [
             0.5,
             "#f7f7f7"
            ],
            [
             0.6,
             "#e6f5d0"
            ],
            [
             0.7,
             "#b8e186"
            ],
            [
             0.8,
             "#7fbc41"
            ],
            [
             0.9,
             "#4d9221"
            ],
            [
             1,
             "#276419"
            ]
           ],
           "sequential": [
            [
             0,
             "#0d0887"
            ],
            [
             0.1111111111111111,
             "#46039f"
            ],
            [
             0.2222222222222222,
             "#7201a8"
            ],
            [
             0.3333333333333333,
             "#9c179e"
            ],
            [
             0.4444444444444444,
             "#bd3786"
            ],
            [
             0.5555555555555556,
             "#d8576b"
            ],
            [
             0.6666666666666666,
             "#ed7953"
            ],
            [
             0.7777777777777778,
             "#fb9f3a"
            ],
            [
             0.8888888888888888,
             "#fdca26"
            ],
            [
             1,
             "#f0f921"
            ]
           ],
           "sequentialminus": [
            [
             0,
             "#0d0887"
            ],
            [
             0.1111111111111111,
             "#46039f"
            ],
            [
             0.2222222222222222,
             "#7201a8"
            ],
            [
             0.3333333333333333,
             "#9c179e"
            ],
            [
             0.4444444444444444,
             "#bd3786"
            ],
            [
             0.5555555555555556,
             "#d8576b"
            ],
            [
             0.6666666666666666,
             "#ed7953"
            ],
            [
             0.7777777777777778,
             "#fb9f3a"
            ],
            [
             0.8888888888888888,
             "#fdca26"
            ],
            [
             1,
             "#f0f921"
            ]
           ]
          },
          "colorway": [
           "#636efa",
           "#EF553B",
           "#00cc96",
           "#ab63fa",
           "#FFA15A",
           "#19d3f3",
           "#FF6692",
           "#B6E880",
           "#FF97FF",
           "#FECB52"
          ],
          "font": {
           "color": "#2a3f5f"
          },
          "geo": {
           "bgcolor": "white",
           "lakecolor": "white",
           "landcolor": "#E5ECF6",
           "showlakes": true,
           "showland": true,
           "subunitcolor": "white"
          },
          "hoverlabel": {
           "align": "left"
          },
          "hovermode": "closest",
          "mapbox": {
           "style": "light"
          },
          "paper_bgcolor": "white",
          "plot_bgcolor": "#E5ECF6",
          "polar": {
           "angularaxis": {
            "gridcolor": "white",
            "linecolor": "white",
            "ticks": ""
           },
           "bgcolor": "#E5ECF6",
           "radialaxis": {
            "gridcolor": "white",
            "linecolor": "white",
            "ticks": ""
           }
          },
          "scene": {
           "xaxis": {
            "backgroundcolor": "#E5ECF6",
            "gridcolor": "white",
            "gridwidth": 2,
            "linecolor": "white",
            "showbackground": true,
            "ticks": "",
            "zerolinecolor": "white"
           },
           "yaxis": {
            "backgroundcolor": "#E5ECF6",
            "gridcolor": "white",
            "gridwidth": 2,
            "linecolor": "white",
            "showbackground": true,
            "ticks": "",
            "zerolinecolor": "white"
           },
           "zaxis": {
            "backgroundcolor": "#E5ECF6",
            "gridcolor": "white",
            "gridwidth": 2,
            "linecolor": "white",
            "showbackground": true,
            "ticks": "",
            "zerolinecolor": "white"
           }
          },
          "shapedefaults": {
           "line": {
            "color": "#2a3f5f"
           }
          },
          "ternary": {
           "aaxis": {
            "gridcolor": "white",
            "linecolor": "white",
            "ticks": ""
           },
           "baxis": {
            "gridcolor": "white",
            "linecolor": "white",
            "ticks": ""
           },
           "bgcolor": "#E5ECF6",
           "caxis": {
            "gridcolor": "white",
            "linecolor": "white",
            "ticks": ""
           }
          },
          "title": {
           "x": 0.05
          },
          "xaxis": {
           "automargin": true,
           "gridcolor": "white",
           "linecolor": "white",
           "ticks": "",
           "title": {
            "standoff": 15
           },
           "zerolinecolor": "white",
           "zerolinewidth": 2
          },
          "yaxis": {
           "automargin": true,
           "gridcolor": "white",
           "linecolor": "white",
           "ticks": "",
           "title": {
            "standoff": 15
           },
           "zerolinecolor": "white",
           "zerolinewidth": 2
          }
         }
        },
        "title": {
         "font": {
          "color": "#4D5663"
         },
         "text": "Change in Confidence Providing Doula Services (n = 11)"
        },
        "xaxis": {
         "gridcolor": "#E1E5ED",
         "showgrid": true,
         "tickfont": {
          "color": "#4D5663"
         },
         "title": {
          "font": {
           "color": "#4D5663"
          },
          "text": ""
         },
         "zerolinecolor": "#E1E5ED"
        },
        "yaxis": {
         "gridcolor": "#E1E5ED",
         "showgrid": true,
         "tickfont": {
          "color": "#4D5663"
         },
         "title": {
          "font": {
           "color": "#4D5663"
          },
          "text": "Confidence Level (scale: 0-4)"
         },
         "zerolinecolor": "#E1E5ED"
        }
       }
      },
      "text/html": [
       "<div>                            <div id=\"598ba7f7-af97-4f13-a6f1-d0c5828ac6ee\" class=\"plotly-graph-div\" style=\"height:525px; width:100%;\"></div>            <script type=\"text/javascript\">                require([\"plotly\"], function(Plotly) {                    window.PLOTLYENV=window.PLOTLYENV || {};\n",
       "                    window.PLOTLYENV.BASE_URL='https://plot.ly';                                    if (document.getElementById(\"598ba7f7-af97-4f13-a6f1-d0c5828ac6ee\")) {                    Plotly.newPlot(                        \"598ba7f7-af97-4f13-a6f1-d0c5828ac6ee\",                        [{\"marker\": {\"color\": \"rgba(64, 224, 208, 0.6)\", \"line\": {\"color\": \"rgba(64, 224, 208, 1.0)\", \"width\": 1}}, \"name\": \"Pre-Course Average\", \"orientation\": \"v\", \"text\": \"\", \"type\": \"bar\", \"x\": [\"Q2.1\", \"Q2.2\", \"Q2.3\", \"Q2.4\", \"Q2.5\", \"Q2.6\", \"Q2.7\", \"Q2.8\"], \"y\": [1.091, 0.455, 1.818, 0.364, 1.273, 1.091, 1.0, 1.455]}, {\"marker\": {\"color\": \"rgba(100, 149, 237, 0.6)\", \"line\": {\"color\": \"rgba(100, 149, 237, 1.0)\", \"width\": 1}}, \"name\": \"Post-Course Average\", \"orientation\": \"v\", \"text\": \"\", \"type\": \"bar\", \"x\": [\"Q2.1\", \"Q2.2\", \"Q2.3\", \"Q2.4\", \"Q2.5\", \"Q2.6\", \"Q2.7\", \"Q2.8\"], \"y\": [2.818, 1.727, 3.3, 3.0, 3.545, 2.909, 2.909, 3.636]}],                        {\"legend\": {\"bgcolor\": \"#F5F6F9\", \"font\": {\"color\": \"#4D5663\"}}, \"paper_bgcolor\": \"#F5F6F9\", \"plot_bgcolor\": \"#F5F6F9\", \"template\": {\"data\": {\"bar\": [{\"error_x\": {\"color\": \"#2a3f5f\"}, \"error_y\": {\"color\": \"#2a3f5f\"}, \"marker\": {\"line\": {\"color\": \"#E5ECF6\", \"width\": 0.5}}, \"type\": \"bar\"}], \"barpolar\": [{\"marker\": {\"line\": {\"color\": \"#E5ECF6\", \"width\": 0.5}}, \"type\": \"barpolar\"}], \"carpet\": [{\"aaxis\": {\"endlinecolor\": \"#2a3f5f\", \"gridcolor\": \"white\", \"linecolor\": \"white\", \"minorgridcolor\": \"white\", \"startlinecolor\": \"#2a3f5f\"}, \"baxis\": {\"endlinecolor\": \"#2a3f5f\", \"gridcolor\": \"white\", \"linecolor\": \"white\", \"minorgridcolor\": \"white\", \"startlinecolor\": \"#2a3f5f\"}, \"type\": \"carpet\"}], \"choropleth\": [{\"colorbar\": {\"outlinewidth\": 0, \"ticks\": \"\"}, \"type\": \"choropleth\"}], \"contour\": [{\"colorbar\": {\"outlinewidth\": 0, \"ticks\": \"\"}, \"colorscale\": [[0.0, \"#0d0887\"], [0.1111111111111111, \"#46039f\"], [0.2222222222222222, \"#7201a8\"], [0.3333333333333333, \"#9c179e\"], [0.4444444444444444, \"#bd3786\"], [0.5555555555555556, \"#d8576b\"], [0.6666666666666666, \"#ed7953\"], [0.7777777777777778, \"#fb9f3a\"], [0.8888888888888888, \"#fdca26\"], [1.0, \"#f0f921\"]], \"type\": \"contour\"}], \"contourcarpet\": [{\"colorbar\": {\"outlinewidth\": 0, \"ticks\": \"\"}, \"type\": \"contourcarpet\"}], \"heatmap\": [{\"colorbar\": {\"outlinewidth\": 0, \"ticks\": \"\"}, \"colorscale\": [[0.0, \"#0d0887\"], [0.1111111111111111, \"#46039f\"], [0.2222222222222222, \"#7201a8\"], [0.3333333333333333, \"#9c179e\"], [0.4444444444444444, \"#bd3786\"], [0.5555555555555556, \"#d8576b\"], [0.6666666666666666, \"#ed7953\"], [0.7777777777777778, \"#fb9f3a\"], [0.8888888888888888, \"#fdca26\"], [1.0, \"#f0f921\"]], \"type\": \"heatmap\"}], \"heatmapgl\": [{\"colorbar\": {\"outlinewidth\": 0, \"ticks\": \"\"}, \"colorscale\": [[0.0, \"#0d0887\"], [0.1111111111111111, \"#46039f\"], [0.2222222222222222, \"#7201a8\"], [0.3333333333333333, \"#9c179e\"], [0.4444444444444444, \"#bd3786\"], [0.5555555555555556, \"#d8576b\"], [0.6666666666666666, \"#ed7953\"], [0.7777777777777778, \"#fb9f3a\"], [0.8888888888888888, \"#fdca26\"], [1.0, \"#f0f921\"]], \"type\": \"heatmapgl\"}], \"histogram\": [{\"marker\": {\"colorbar\": {\"outlinewidth\": 0, \"ticks\": \"\"}}, \"type\": \"histogram\"}], \"histogram2d\": [{\"colorbar\": {\"outlinewidth\": 0, \"ticks\": \"\"}, \"colorscale\": [[0.0, \"#0d0887\"], [0.1111111111111111, \"#46039f\"], [0.2222222222222222, \"#7201a8\"], [0.3333333333333333, \"#9c179e\"], [0.4444444444444444, \"#bd3786\"], [0.5555555555555556, \"#d8576b\"], [0.6666666666666666, \"#ed7953\"], [0.7777777777777778, \"#fb9f3a\"], [0.8888888888888888, \"#fdca26\"], [1.0, \"#f0f921\"]], \"type\": \"histogram2d\"}], \"histogram2dcontour\": [{\"colorbar\": {\"outlinewidth\": 0, \"ticks\": \"\"}, \"colorscale\": [[0.0, \"#0d0887\"], [0.1111111111111111, \"#46039f\"], [0.2222222222222222, \"#7201a8\"], [0.3333333333333333, \"#9c179e\"], [0.4444444444444444, \"#bd3786\"], [0.5555555555555556, \"#d8576b\"], [0.6666666666666666, \"#ed7953\"], [0.7777777777777778, \"#fb9f3a\"], [0.8888888888888888, \"#fdca26\"], [1.0, \"#f0f921\"]], \"type\": \"histogram2dcontour\"}], \"mesh3d\": [{\"colorbar\": {\"outlinewidth\": 0, \"ticks\": \"\"}, \"type\": \"mesh3d\"}], \"parcoords\": [{\"line\": {\"colorbar\": {\"outlinewidth\": 0, \"ticks\": \"\"}}, \"type\": \"parcoords\"}], \"pie\": [{\"automargin\": true, \"type\": \"pie\"}], \"scatter\": [{\"marker\": {\"colorbar\": {\"outlinewidth\": 0, \"ticks\": \"\"}}, \"type\": \"scatter\"}], \"scatter3d\": [{\"line\": {\"colorbar\": {\"outlinewidth\": 0, \"ticks\": \"\"}}, \"marker\": {\"colorbar\": {\"outlinewidth\": 0, \"ticks\": \"\"}}, \"type\": \"scatter3d\"}], \"scattercarpet\": [{\"marker\": {\"colorbar\": {\"outlinewidth\": 0, \"ticks\": \"\"}}, \"type\": \"scattercarpet\"}], \"scattergeo\": [{\"marker\": {\"colorbar\": {\"outlinewidth\": 0, \"ticks\": \"\"}}, \"type\": \"scattergeo\"}], \"scattergl\": [{\"marker\": {\"colorbar\": {\"outlinewidth\": 0, \"ticks\": \"\"}}, \"type\": \"scattergl\"}], \"scattermapbox\": [{\"marker\": {\"colorbar\": {\"outlinewidth\": 0, \"ticks\": \"\"}}, \"type\": \"scattermapbox\"}], \"scatterpolar\": [{\"marker\": {\"colorbar\": {\"outlinewidth\": 0, \"ticks\": \"\"}}, \"type\": \"scatterpolar\"}], \"scatterpolargl\": [{\"marker\": {\"colorbar\": {\"outlinewidth\": 0, \"ticks\": \"\"}}, \"type\": \"scatterpolargl\"}], \"scatterternary\": [{\"marker\": {\"colorbar\": {\"outlinewidth\": 0, \"ticks\": \"\"}}, \"type\": \"scatterternary\"}], \"surface\": [{\"colorbar\": {\"outlinewidth\": 0, \"ticks\": \"\"}, \"colorscale\": [[0.0, \"#0d0887\"], [0.1111111111111111, \"#46039f\"], [0.2222222222222222, \"#7201a8\"], [0.3333333333333333, \"#9c179e\"], [0.4444444444444444, \"#bd3786\"], [0.5555555555555556, \"#d8576b\"], [0.6666666666666666, \"#ed7953\"], [0.7777777777777778, \"#fb9f3a\"], [0.8888888888888888, \"#fdca26\"], [1.0, \"#f0f921\"]], \"type\": \"surface\"}], \"table\": [{\"cells\": {\"fill\": {\"color\": \"#EBF0F8\"}, \"line\": {\"color\": \"white\"}}, \"header\": {\"fill\": {\"color\": \"#C8D4E3\"}, \"line\": {\"color\": \"white\"}}, \"type\": \"table\"}]}, \"layout\": {\"annotationdefaults\": {\"arrowcolor\": \"#2a3f5f\", \"arrowhead\": 0, \"arrowwidth\": 1}, \"autotypenumbers\": \"strict\", \"coloraxis\": {\"colorbar\": {\"outlinewidth\": 0, \"ticks\": \"\"}}, \"colorscale\": {\"diverging\": [[0, \"#8e0152\"], [0.1, \"#c51b7d\"], [0.2, \"#de77ae\"], [0.3, \"#f1b6da\"], [0.4, \"#fde0ef\"], [0.5, \"#f7f7f7\"], [0.6, \"#e6f5d0\"], [0.7, \"#b8e186\"], [0.8, \"#7fbc41\"], [0.9, \"#4d9221\"], [1, \"#276419\"]], \"sequential\": [[0.0, \"#0d0887\"], [0.1111111111111111, \"#46039f\"], [0.2222222222222222, \"#7201a8\"], [0.3333333333333333, \"#9c179e\"], [0.4444444444444444, \"#bd3786\"], [0.5555555555555556, \"#d8576b\"], [0.6666666666666666, \"#ed7953\"], [0.7777777777777778, \"#fb9f3a\"], [0.8888888888888888, \"#fdca26\"], [1.0, \"#f0f921\"]], \"sequentialminus\": [[0.0, \"#0d0887\"], [0.1111111111111111, \"#46039f\"], [0.2222222222222222, \"#7201a8\"], [0.3333333333333333, \"#9c179e\"], [0.4444444444444444, \"#bd3786\"], [0.5555555555555556, \"#d8576b\"], [0.6666666666666666, \"#ed7953\"], [0.7777777777777778, \"#fb9f3a\"], [0.8888888888888888, \"#fdca26\"], [1.0, \"#f0f921\"]]}, \"colorway\": [\"#636efa\", \"#EF553B\", \"#00cc96\", \"#ab63fa\", \"#FFA15A\", \"#19d3f3\", \"#FF6692\", \"#B6E880\", \"#FF97FF\", \"#FECB52\"], \"font\": {\"color\": \"#2a3f5f\"}, \"geo\": {\"bgcolor\": \"white\", \"lakecolor\": \"white\", \"landcolor\": \"#E5ECF6\", \"showlakes\": true, \"showland\": true, \"subunitcolor\": \"white\"}, \"hoverlabel\": {\"align\": \"left\"}, \"hovermode\": \"closest\", \"mapbox\": {\"style\": \"light\"}, \"paper_bgcolor\": \"white\", \"plot_bgcolor\": \"#E5ECF6\", \"polar\": {\"angularaxis\": {\"gridcolor\": \"white\", \"linecolor\": \"white\", \"ticks\": \"\"}, \"bgcolor\": \"#E5ECF6\", \"radialaxis\": {\"gridcolor\": \"white\", \"linecolor\": \"white\", \"ticks\": \"\"}}, \"scene\": {\"xaxis\": {\"backgroundcolor\": \"#E5ECF6\", \"gridcolor\": \"white\", \"gridwidth\": 2, \"linecolor\": \"white\", \"showbackground\": true, \"ticks\": \"\", \"zerolinecolor\": \"white\"}, \"yaxis\": {\"backgroundcolor\": \"#E5ECF6\", \"gridcolor\": \"white\", \"gridwidth\": 2, \"linecolor\": \"white\", \"showbackground\": true, \"ticks\": \"\", \"zerolinecolor\": \"white\"}, \"zaxis\": {\"backgroundcolor\": \"#E5ECF6\", \"gridcolor\": \"white\", \"gridwidth\": 2, \"linecolor\": \"white\", \"showbackground\": true, \"ticks\": \"\", \"zerolinecolor\": \"white\"}}, \"shapedefaults\": {\"line\": {\"color\": \"#2a3f5f\"}}, \"ternary\": {\"aaxis\": {\"gridcolor\": \"white\", \"linecolor\": \"white\", \"ticks\": \"\"}, \"baxis\": {\"gridcolor\": \"white\", \"linecolor\": \"white\", \"ticks\": \"\"}, \"bgcolor\": \"#E5ECF6\", \"caxis\": {\"gridcolor\": \"white\", \"linecolor\": \"white\", \"ticks\": \"\"}}, \"title\": {\"x\": 0.05}, \"xaxis\": {\"automargin\": true, \"gridcolor\": \"white\", \"linecolor\": \"white\", \"ticks\": \"\", \"title\": {\"standoff\": 15}, \"zerolinecolor\": \"white\", \"zerolinewidth\": 2}, \"yaxis\": {\"automargin\": true, \"gridcolor\": \"white\", \"linecolor\": \"white\", \"ticks\": \"\", \"title\": {\"standoff\": 15}, \"zerolinecolor\": \"white\", \"zerolinewidth\": 2}}}, \"title\": {\"font\": {\"color\": \"#4D5663\"}, \"text\": \"Change in Confidence Providing Doula Services (n = 11)\"}, \"xaxis\": {\"gridcolor\": \"#E1E5ED\", \"showgrid\": true, \"tickfont\": {\"color\": \"#4D5663\"}, \"title\": {\"font\": {\"color\": \"#4D5663\"}, \"text\": \"\"}, \"zerolinecolor\": \"#E1E5ED\"}, \"yaxis\": {\"gridcolor\": \"#E1E5ED\", \"showgrid\": true, \"tickfont\": {\"color\": \"#4D5663\"}, \"title\": {\"font\": {\"color\": \"#4D5663\"}, \"text\": \"Confidence Level (scale: 0-4)\"}, \"zerolinecolor\": \"#E1E5ED\"}},                        {\"showLink\": true, \"linkText\": \"Export to plot.ly\", \"plotlyServerURL\": \"https://plot.ly\", \"responsive\": true}                    ).then(function(){\n",
       "                            \n",
       "var gd = document.getElementById('598ba7f7-af97-4f13-a6f1-d0c5828ac6ee');\n",
       "var x = new MutationObserver(function (mutations, observer) {{\n",
       "        var display = window.getComputedStyle(gd).display;\n",
       "        if (!display || display === 'none') {{\n",
       "            console.log([gd, 'removed!']);\n",
       "            Plotly.purge(gd);\n",
       "            observer.disconnect();\n",
       "        }}\n",
       "}});\n",
       "\n",
       "// Listen for the removal of the full notebook cells\n",
       "var notebookContainer = gd.closest('#notebook-container');\n",
       "if (notebookContainer) {{\n",
       "    x.observe(notebookContainer, {childList: true});\n",
       "}}\n",
       "\n",
       "// Listen for the clearing of the current output cell\n",
       "var outputEl = gd.closest('.output');\n",
       "if (outputEl) {{\n",
       "    x.observe(outputEl, {childList: true});\n",
       "}}\n",
       "\n",
       "                        })                };                });            </script>        </div>"
      ]
     },
     "metadata": {},
     "output_type": "display_data"
    }
   ],
   "source": [
    "df_Q2 = df.iloc[4:12,:]  # choose x-axis, 8 questions in Q2\n",
    "df_plot= df_Q2[['Pre-Course Average', 'Post-Course Average']]\n",
    "colors = [\"turquoise\", \"cornflowerblue\"]\n",
    "df_plot.iplot(kind=\"bar\", color=colors, title = 'Change in Confidence Providing Doula Services (n = 11)', \n",
    "              yTitle = 'Confidence Level (scale: 0-4)')"
   ]
  },
  {
   "cell_type": "code",
   "execution_count": 14,
   "metadata": {},
   "outputs": [
    {
     "name": "stdout",
     "output_type": "stream",
     "text": [
      "Survey Questions on Confidence\n",
      "2.1) Communicate with a pregnant person and their family about what they can expect during a pregnancy, labor, childbirth, postpartum period, abortion procedure, or similar reproductive experience.\n",
      "2.2) Communicate with a family about what they can expect during an adoption or fostering process.\n",
      "2.3) Communicate with someone about their thoughts relating to reproductive processes.\n",
      "2.4) Provide effective physical comfort measures to someone in labor.\n",
      "2.5) Provide effective emotional support to someone in labor.\n",
      "2.6) Facilitate communication between a laboring person and their healthcare team. \n",
      "2.7) Advocate for a person’s needs and desires to their healthcare team during labor, childbirth, the immediate postpartum period, and abortion procedures. \n",
      "2.8) Describe the benefits of doula support to others.\n"
     ]
    }
   ],
   "source": [
    "print(\"Survey Questions on Confidence\")\n",
    "for x in pre_labels[6:14]:\n",
    "    print(x)"
   ]
  },
  {
   "cell_type": "markdown",
   "metadata": {},
   "source": [
    "## Demographic Data"
   ]
  },
  {
   "cell_type": "code",
   "execution_count": 15,
   "metadata": {},
   "outputs": [
    {
     "data": {
      "text/plain": [
       "0                                    White or Caucasian\n",
       "1                                    Hispanic or Latinx\n",
       "2                                    White or Caucasian\n",
       "3     Hispanic or Latinx, Middle-Eastern, Multi-raci...\n",
       "4                                    White or Caucasian\n",
       "5     Hispanic or Latinx, White or Caucasian, Multi-...\n",
       "6                             Black or African American\n",
       "7             Native Hawaiian or Other Pacific Islander\n",
       "8                             Black or African American\n",
       "9                             Black or African American\n",
       "10                            Black or African American\n",
       "Name: Race/Ethnicity, dtype: object"
      ]
     },
     "execution_count": 15,
     "metadata": {},
     "output_type": "execute_result"
    }
   ],
   "source": [
    "# List participants' races/ethnicities data \n",
    "data['Race/Ethnicity']"
   ]
  },
  {
   "cell_type": "code",
   "execution_count": 16,
   "metadata": {},
   "outputs": [
    {
     "data": {
      "image/png": "[encoded data removed]",
      "text/plain": [
       "<Figure size 1296x504 with 1 Axes>"
      ]
     },
     "metadata": {},
     "output_type": "display_data"
    }
   ],
   "source": [
    "# Visualize race/ethnicity data as a pie chart\n",
    "race_percentages = round((data['Race/Ethnicity'].value_counts()/data['Race/Ethnicity'].count())*100,2)  \n",
    "race_percentages.plot(kind='pie', figsize=(18,7),autopct='%.1f%%')\n",
    "plt.title('Race/Ethnicity (n = 11)')\n",
    "pylab.ylabel('')  # remove series name on the left side\n",
    "plt.show()"
   ]
  },
  {
   "cell_type": "code",
   "execution_count": 17,
   "metadata": {},
   "outputs": [
    {
     "name": "stdout",
     "output_type": "stream",
     "text": [
      "Black\n",
      "       Pre-Course Average  Post-Course Average  Post-pre Difference\n",
      "Q2.4                1.00                  3.0                 2.00\n",
      "Q2.5                0.75                  3.5                 2.75\n",
      "Q2.6                0.50                  3.0                 2.50\n",
      "Q2.7                0.75                  3.0                 2.25\n",
      "Q2.8                3.50                  3.5                 0.00 \n",
      "\n",
      "Non-Black\n",
      "       Pre-Course Average  Post-Course Average  Post-pre Difference\n",
      "Q2.4                1.43                 3.00                 1.57\n",
      "Q2.5                1.29                 3.57                 2.28\n",
      "Q2.6                1.29                 2.86                 1.57\n",
      "Q2.7                1.86                 2.86                 1.00\n",
      "Q2.8                3.71                 3.71                 0.00\n",
      "\n",
      "Q2.4\n",
      "       Black  Non-Black\n",
      "Pre     1.0       1.43\n",
      "Post    3.0       3.00 \n",
      "\n",
      "Q2.5\n",
      "       Black  Non-Black\n",
      "Pre    0.75       1.29\n",
      "Post   3.50       3.57 \n",
      "\n",
      "Q2.6\n",
      "       Black  Non-Black\n",
      "Pre     0.5       1.29\n",
      "Post    3.0       2.86 \n",
      "\n",
      "Q2.7\n",
      "       Black  Non-Black\n",
      "Pre    0.75       1.86\n",
      "Post   3.00       2.86 \n",
      "\n",
      "Q2.8\n",
      "       Black  Non-Black\n",
      "Pre     3.5       3.71\n",
      "Post    3.5       3.71\n"
     ]
    }
   ],
   "source": [
    "# Separate table data into black and non-black participants \n",
    "black = data[data['Race/Ethnicity'] == 'Black or African American']\n",
    "non_black = data[data['Race/Ethnicity'] != 'Black or African American']\n",
    "\n",
    "# Focus on questions Q 2.4 to Q 2.8  \n",
    "pre_average_black= round(black.iloc[:,8:13].mean(),2).array\n",
    "post_average_black= round(black.iloc[:,27:32].mean(),2).array \n",
    "diff_black = (post_average_black - pre_average_black) \n",
    "\n",
    "pre_average_non_black= round(non_black.iloc[:,8:13].mean(),2).array\n",
    "post_average_non_black= round(non_black.iloc[:,27:32].mean(),2).array \n",
    "diff_non_black = (post_average_non_black - pre_average_non_black) \n",
    "\n",
    "# Create a new dataframe\n",
    "questions_race = ['Q2.4', 'Q2.5', 'Q2.6', 'Q2.7', 'Q2.8']\n",
    "new_data_black = {'Pre-Course Average': pre_average_black, \"Post-Course Average\" : post_average_black, \"Post-pre Difference\" : diff_black}\n",
    "new_data_non_black = {'Pre-Course Average': pre_average_non_black, \"Post-Course Average\" : post_average_non_black, \"Post-pre Difference\" : diff_non_black}\n",
    "\n",
    "# Black participants (Questions 2.4 to 2.8)\n",
    "df_black = pd.DataFrame(new_data_black, index=questions_race)\n",
    "\n",
    "# Non black participants (Questions 2.4 to 2.8)\n",
    "df_non_black = pd.DataFrame(new_data_non_black, index=questions_race)\n",
    "\n",
    "# Create df for questions (Black and Non-Black)\n",
    "def get_Q_df(i):\n",
    "    rows = ['Pre' , \"Post\"]\n",
    "    col_data = {'Black': [df_black.iloc[i,0], df_black.iloc[i,1]], 'Non-Black': [df_non_black.iloc[i,0], df_non_black.iloc[i,1]] }\n",
    "    return pd.DataFrame(col_data, index=rows)\n",
    "\n",
    "Q = list()  # create an empty list, where items will be 5 dataframes corresponding Q2.4 to Q2.8\n",
    "for i in range(5):\n",
    "    Q.append(get_Q_df(i))\n",
    "\n",
    "print('Black\\n', df_black, '\\n\\nNon-Black\\n', df_non_black)\n",
    "print('\\nQ2.4\\n',Q[0], '\\n\\nQ2.5\\n',Q[1], '\\n\\nQ2.6\\n',Q[2], '\\n\\nQ2.7\\n',Q[3], '\\n\\nQ2.8\\n',Q[4])"
   ]
  },
  {
   "cell_type": "code",
   "execution_count": 18,
   "metadata": {},
   "outputs": [
    {
     "data": {
      "application/vnd.jupyter.widget-view+json": {
       "model_id": "4b4cc1491fa04796a341032e7f4454e6",
       "version_major": 2,
       "version_minor": 0
      },
      "text/plain": [
       "interactive(children=(Dropdown(description='Question', options=('Q2.4 Physical Comfort', 'Q2.5 Emotional Suppo…"
      ]
     },
     "metadata": {},
     "output_type": "display_data"
    }
   ],
   "source": [
    "# pre_labels[9:14] contain the set of question from 2.4 to 2.8\n",
    "a = {'Q2.4 Physical Comfort': Q[0], 'Q2.5 Emotional Support': Q[1], 'Q2.6 Facilitate Communication': Q[2], \n",
    "     'Q2.7 Advocate for Another': Q[3], 'Q2.8 Describe Benefits': Q[4]}\n",
    "\n",
    "the_questions = dict() # dict that associates short version of the questions to long version \n",
    "j = 9\n",
    "for i in a:\n",
    "    the_questions[i] = pre_labels[j]\n",
    "    j = j +1\n",
    "\n",
    "def plot_Q(Question):\n",
    "    #print(the_questions[Question])  # print the long original question\n",
    "    Q = a[Question]\n",
    "    #print('\\n',Q)\n",
    "    Q.iplot(kind=\"bar\", dimensions=(700, 300), title = the_questions[Question]);\n",
    "    #Q.plot(kind=\"bar\", title = the_questions[Question])\n",
    "    \n",
    "# Create a dropdown menu to select a question \n",
    "q = widgets.Dropdown(options= ['Q2.4 Physical Comfort' , 'Q2.5 Emotional Support', 'Q2.6 Facilitate Communication', \n",
    "                               'Q2.7 Advocate for Another', 'Q2.8 Describe Benefits'], value='Q2.4 Physical Comfort')\n",
    "display(widgets.interactive(plot_Q, Question = q))"
   ]
  },
  {
   "cell_type": "markdown",
   "metadata": {},
   "source": [
    "## Visualizing Post-course Responses\n",
    "#### 3.3) Volunteer your time as a doula to your community."
   ]
  },
  {
   "cell_type": "code",
   "execution_count": 19,
   "metadata": {},
   "outputs": [
    {
     "name": "stdout",
     "output_type": "stream",
     "text": [
      "Choices are: Very Likely, Somewhat Likely, Uncertain, Somewhat Unlikely, Very Unlikely\n"
     ]
    },
    {
     "data": {
      "image/png": "[encoded data removed]",
      "text/plain": [
       "<Figure size 1296x504 with 1 Axes>"
      ]
     },
     "metadata": {},
     "output_type": "display_data"
    }
   ],
   "source": [
    "raw_data = pd.merge(left=pre_tbl, right=post_tbl, left_on='ID', right_on='ID')\n",
    "print('Choices are: Very Likely, Somewhat Likely, Uncertain, Somewhat Unlikely, Very Unlikely')\n",
    "percentages3_3 = round((raw_data['post3.3'].value_counts()/raw_data['post3.3'].count())*100,2) # series \n",
    "percentages3_3.plot(kind='pie', figsize=(18,7),autopct='%.1f%%')\n",
    "plt.title('3.3) Volunteer your time as a doula to your community.')\n",
    "pylab.ylabel('') \n",
    "plt.show()"
   ]
  },
  {
   "cell_type": "markdown",
   "metadata": {},
   "source": [
    "#### 3.9) Utilize doula skills gained in this training (such as client-centered care, supportive communication and active listening, cultural responsiveness, accountability, and evidence-based education) in future clinical healthcare."
   ]
  },
  {
   "cell_type": "code",
   "execution_count": 20,
   "metadata": {},
   "outputs": [
    {
     "data": {
      "image/png": "[encoded data removed]",
      "text/plain": [
       "<Figure size 1296x504 with 1 Axes>"
      ]
     },
     "metadata": {},
     "output_type": "display_data"
    }
   ],
   "source": [
    "percentages3_9 = round((raw_data['post3.9'].value_counts()/raw_data['post3.9'].count())*100,2)\n",
    "percentages3_9.plot(kind='pie', figsize=(18,7), autopct='%.1f%%')\n",
    "plt.title('3.9) Utilize doula skills gained in this training ... in future clinical healthcare.')\n",
    "pylab.ylabel('') \n",
    "plt.show()"
   ]
  },
  {
   "cell_type": "markdown",
   "metadata": {},
   "source": [
    "## The Framingham Heart Study"
   ]
  },
  {
   "cell_type": "markdown",
   "metadata": {},
   "source": [
    "The [Framingham Heart Study](https://en.wikipedia.org/wiki/Framingham_Heart_Study) is an observational study of cardiovascular health. The initial study followed over 5,000 volunteers for several decades, and followup studies even looked at their descendants."
   ]
  },
  {
   "cell_type": "code",
   "execution_count": 21,
   "metadata": {},
   "outputs": [
    {
     "data": {
      "text/html": [
       "<div>\n",
       "<style scoped>\n",
       "    .dataframe tbody tr th:only-of-type {\n",
       "        vertical-align: middle;\n",
       "    }\n",
       "\n",
       "    .dataframe tbody tr th {\n",
       "        vertical-align: top;\n",
       "    }\n",
       "\n",
       "    .dataframe thead th {\n",
       "        text-align: right;\n",
       "    }\n",
       "</style>\n",
       "<table border=\"1\" class=\"dataframe\">\n",
       "  <thead>\n",
       "    <tr style=\"text-align: right;\">\n",
       "      <th></th>\n",
       "      <th>male</th>\n",
       "      <th>age</th>\n",
       "      <th>education</th>\n",
       "      <th>currentSmoker</th>\n",
       "      <th>cigsPerDay</th>\n",
       "      <th>BPMeds</th>\n",
       "      <th>prevalentStroke</th>\n",
       "      <th>prevalentHyp</th>\n",
       "      <th>diabetes</th>\n",
       "      <th>totChol</th>\n",
       "      <th>sysBP</th>\n",
       "      <th>diaBP</th>\n",
       "      <th>BMI</th>\n",
       "      <th>heartRate</th>\n",
       "      <th>glucose</th>\n",
       "      <th>TenYearCHD</th>\n",
       "    </tr>\n",
       "  </thead>\n",
       "  <tbody>\n",
       "    <tr>\n",
       "      <th>0</th>\n",
       "      <td>1</td>\n",
       "      <td>39</td>\n",
       "      <td>4.0</td>\n",
       "      <td>0</td>\n",
       "      <td>0.0</td>\n",
       "      <td>0.0</td>\n",
       "      <td>0</td>\n",
       "      <td>0</td>\n",
       "      <td>0</td>\n",
       "      <td>195.0</td>\n",
       "      <td>106.0</td>\n",
       "      <td>70.0</td>\n",
       "      <td>26.97</td>\n",
       "      <td>80.0</td>\n",
       "      <td>77.0</td>\n",
       "      <td>0</td>\n",
       "    </tr>\n",
       "    <tr>\n",
       "      <th>1</th>\n",
       "      <td>0</td>\n",
       "      <td>46</td>\n",
       "      <td>2.0</td>\n",
       "      <td>0</td>\n",
       "      <td>0.0</td>\n",
       "      <td>0.0</td>\n",
       "      <td>0</td>\n",
       "      <td>0</td>\n",
       "      <td>0</td>\n",
       "      <td>250.0</td>\n",
       "      <td>121.0</td>\n",
       "      <td>81.0</td>\n",
       "      <td>28.73</td>\n",
       "      <td>95.0</td>\n",
       "      <td>76.0</td>\n",
       "      <td>0</td>\n",
       "    </tr>\n",
       "    <tr>\n",
       "      <th>2</th>\n",
       "      <td>1</td>\n",
       "      <td>48</td>\n",
       "      <td>1.0</td>\n",
       "      <td>1</td>\n",
       "      <td>20.0</td>\n",
       "      <td>0.0</td>\n",
       "      <td>0</td>\n",
       "      <td>0</td>\n",
       "      <td>0</td>\n",
       "      <td>245.0</td>\n",
       "      <td>127.5</td>\n",
       "      <td>80.0</td>\n",
       "      <td>25.34</td>\n",
       "      <td>75.0</td>\n",
       "      <td>70.0</td>\n",
       "      <td>0</td>\n",
       "    </tr>\n",
       "    <tr>\n",
       "      <th>3</th>\n",
       "      <td>0</td>\n",
       "      <td>61</td>\n",
       "      <td>3.0</td>\n",
       "      <td>1</td>\n",
       "      <td>30.0</td>\n",
       "      <td>0.0</td>\n",
       "      <td>0</td>\n",
       "      <td>1</td>\n",
       "      <td>0</td>\n",
       "      <td>225.0</td>\n",
       "      <td>150.0</td>\n",
       "      <td>95.0</td>\n",
       "      <td>28.58</td>\n",
       "      <td>65.0</td>\n",
       "      <td>103.0</td>\n",
       "      <td>1</td>\n",
       "    </tr>\n",
       "    <tr>\n",
       "      <th>4</th>\n",
       "      <td>0</td>\n",
       "      <td>46</td>\n",
       "      <td>3.0</td>\n",
       "      <td>1</td>\n",
       "      <td>23.0</td>\n",
       "      <td>0.0</td>\n",
       "      <td>0</td>\n",
       "      <td>0</td>\n",
       "      <td>0</td>\n",
       "      <td>285.0</td>\n",
       "      <td>130.0</td>\n",
       "      <td>84.0</td>\n",
       "      <td>23.10</td>\n",
       "      <td>85.0</td>\n",
       "      <td>85.0</td>\n",
       "      <td>0</td>\n",
       "    </tr>\n",
       "    <tr>\n",
       "      <th>...</th>\n",
       "      <td>...</td>\n",
       "      <td>...</td>\n",
       "      <td>...</td>\n",
       "      <td>...</td>\n",
       "      <td>...</td>\n",
       "      <td>...</td>\n",
       "      <td>...</td>\n",
       "      <td>...</td>\n",
       "      <td>...</td>\n",
       "      <td>...</td>\n",
       "      <td>...</td>\n",
       "      <td>...</td>\n",
       "      <td>...</td>\n",
       "      <td>...</td>\n",
       "      <td>...</td>\n",
       "      <td>...</td>\n",
       "    </tr>\n",
       "    <tr>\n",
       "      <th>4235</th>\n",
       "      <td>0</td>\n",
       "      <td>48</td>\n",
       "      <td>2.0</td>\n",
       "      <td>1</td>\n",
       "      <td>20.0</td>\n",
       "      <td>NaN</td>\n",
       "      <td>0</td>\n",
       "      <td>0</td>\n",
       "      <td>0</td>\n",
       "      <td>248.0</td>\n",
       "      <td>131.0</td>\n",
       "      <td>72.0</td>\n",
       "      <td>22.00</td>\n",
       "      <td>84.0</td>\n",
       "      <td>86.0</td>\n",
       "      <td>0</td>\n",
       "    </tr>\n",
       "    <tr>\n",
       "      <th>4236</th>\n",
       "      <td>0</td>\n",
       "      <td>44</td>\n",
       "      <td>1.0</td>\n",
       "      <td>1</td>\n",
       "      <td>15.0</td>\n",
       "      <td>0.0</td>\n",
       "      <td>0</td>\n",
       "      <td>0</td>\n",
       "      <td>0</td>\n",
       "      <td>210.0</td>\n",
       "      <td>126.5</td>\n",
       "      <td>87.0</td>\n",
       "      <td>19.16</td>\n",
       "      <td>86.0</td>\n",
       "      <td>NaN</td>\n",
       "      <td>0</td>\n",
       "    </tr>\n",
       "    <tr>\n",
       "      <th>4237</th>\n",
       "      <td>0</td>\n",
       "      <td>52</td>\n",
       "      <td>2.0</td>\n",
       "      <td>0</td>\n",
       "      <td>0.0</td>\n",
       "      <td>0.0</td>\n",
       "      <td>0</td>\n",
       "      <td>0</td>\n",
       "      <td>0</td>\n",
       "      <td>269.0</td>\n",
       "      <td>133.5</td>\n",
       "      <td>83.0</td>\n",
       "      <td>21.47</td>\n",
       "      <td>80.0</td>\n",
       "      <td>107.0</td>\n",
       "      <td>0</td>\n",
       "    </tr>\n",
       "    <tr>\n",
       "      <th>4238</th>\n",
       "      <td>1</td>\n",
       "      <td>40</td>\n",
       "      <td>3.0</td>\n",
       "      <td>0</td>\n",
       "      <td>0.0</td>\n",
       "      <td>0.0</td>\n",
       "      <td>0</td>\n",
       "      <td>1</td>\n",
       "      <td>0</td>\n",
       "      <td>185.0</td>\n",
       "      <td>141.0</td>\n",
       "      <td>98.0</td>\n",
       "      <td>25.60</td>\n",
       "      <td>67.0</td>\n",
       "      <td>72.0</td>\n",
       "      <td>0</td>\n",
       "    </tr>\n",
       "    <tr>\n",
       "      <th>4239</th>\n",
       "      <td>0</td>\n",
       "      <td>39</td>\n",
       "      <td>3.0</td>\n",
       "      <td>1</td>\n",
       "      <td>30.0</td>\n",
       "      <td>0.0</td>\n",
       "      <td>0</td>\n",
       "      <td>0</td>\n",
       "      <td>0</td>\n",
       "      <td>196.0</td>\n",
       "      <td>133.0</td>\n",
       "      <td>86.0</td>\n",
       "      <td>20.91</td>\n",
       "      <td>85.0</td>\n",
       "      <td>80.0</td>\n",
       "      <td>0</td>\n",
       "    </tr>\n",
       "  </tbody>\n",
       "</table>\n",
       "<p>4240 rows × 16 columns</p>\n",
       "</div>"
      ],
      "text/plain": [
       "      male  age  education  currentSmoker  cigsPerDay  BPMeds  \\\n",
       "0        1   39        4.0              0         0.0     0.0   \n",
       "1        0   46        2.0              0         0.0     0.0   \n",
       "2        1   48        1.0              1        20.0     0.0   \n",
       "3        0   61        3.0              1        30.0     0.0   \n",
       "4        0   46        3.0              1        23.0     0.0   \n",
       "...    ...  ...        ...            ...         ...     ...   \n",
       "4235     0   48        2.0              1        20.0     NaN   \n",
       "4236     0   44        1.0              1        15.0     0.0   \n",
       "4237     0   52        2.0              0         0.0     0.0   \n",
       "4238     1   40        3.0              0         0.0     0.0   \n",
       "4239     0   39        3.0              1        30.0     0.0   \n",
       "\n",
       "      prevalentStroke  prevalentHyp  diabetes  totChol  sysBP  diaBP    BMI  \\\n",
       "0                   0             0         0    195.0  106.0   70.0  26.97   \n",
       "1                   0             0         0    250.0  121.0   81.0  28.73   \n",
       "2                   0             0         0    245.0  127.5   80.0  25.34   \n",
       "3                   0             1         0    225.0  150.0   95.0  28.58   \n",
       "4                   0             0         0    285.0  130.0   84.0  23.10   \n",
       "...               ...           ...       ...      ...    ...    ...    ...   \n",
       "4235                0             0         0    248.0  131.0   72.0  22.00   \n",
       "4236                0             0         0    210.0  126.5   87.0  19.16   \n",
       "4237                0             0         0    269.0  133.5   83.0  21.47   \n",
       "4238                0             1         0    185.0  141.0   98.0  25.60   \n",
       "4239                0             0         0    196.0  133.0   86.0  20.91   \n",
       "\n",
       "      heartRate  glucose  TenYearCHD  \n",
       "0          80.0     77.0           0  \n",
       "1          95.0     76.0           0  \n",
       "2          75.0     70.0           0  \n",
       "3          65.0    103.0           1  \n",
       "4          85.0     85.0           0  \n",
       "...         ...      ...         ...  \n",
       "4235       84.0     86.0           0  \n",
       "4236       86.0      NaN           0  \n",
       "4237       80.0    107.0           0  \n",
       "4238       67.0     72.0           0  \n",
       "4239       85.0     80.0           0  \n",
       "\n",
       "[4240 rows x 16 columns]"
      ]
     },
     "execution_count": 21,
     "metadata": {},
     "output_type": "execute_result"
    }
   ],
   "source": [
    "frK =  pd.read_csv('framinghamKaggle.csv')\n",
    "frK"
   ]
  },
  {
   "cell_type": "markdown",
   "metadata": {},
   "source": [
    "Attributes:\n",
    "\n",
    "Demographic:\n",
    "\n",
    "    Sex: female (0), male (1)\n",
    "    Age: Age of the patient\n",
    "    Education: no further information provided\n",
    "\n",
    "Behavioral:\n",
    "\n",
    "    Current Smoker: no (0), yes (1)\n",
    "    Cigs Per Day: the number of cigarettes that the person smoked on average in one day.\n",
    "\n",
    "Information on medical history:\n",
    "\n",
    "    BP Meds: no (0), yes (1) -- patient was on blood pressure medication \n",
    "    Prevalent Stroke: no (0), yes (1) -- patient had previously had a stroke (\n",
    "    Prevalent Hyp: no (0), yes (1) -- patient was hypertensive \n",
    "    Diabetes: no (0), yes (1) -- patient had diabetes \n",
    "\n",
    "Information on current medical condition:\n",
    "\n",
    "    Tot Chol: total cholesterol level \n",
    "    Sys BP: systolic blood pressure \n",
    "    Dia BP: diastolic blood pressure \n",
    "    BMI: Body Mass Index (Continuous)\n",
    "    Heart Rate: heart rate \n",
    "    Glucose: glucose level \n",
    "\n",
    "Target variable to predict:\n",
    "\n",
    "    10 year risk of coronary heart disease (CHD) - (binary: “1”, means “Yes”, “0” means “No”)"
   ]
  },
  {
   "cell_type": "code",
   "execution_count": 22,
   "metadata": {},
   "outputs": [
    {
     "data": {
      "text/html": [
       "<div>\n",
       "<style scoped>\n",
       "    .dataframe tbody tr th:only-of-type {\n",
       "        vertical-align: middle;\n",
       "    }\n",
       "\n",
       "    .dataframe tbody tr th {\n",
       "        vertical-align: top;\n",
       "    }\n",
       "\n",
       "    .dataframe thead th {\n",
       "        text-align: right;\n",
       "    }\n",
       "</style>\n",
       "<table border=\"1\" class=\"dataframe\">\n",
       "  <thead>\n",
       "    <tr style=\"text-align: right;\">\n",
       "      <th></th>\n",
       "      <th>male</th>\n",
       "      <th>age</th>\n",
       "      <th>education</th>\n",
       "      <th>currentSmoker</th>\n",
       "      <th>cigsPerDay</th>\n",
       "      <th>BPMeds</th>\n",
       "      <th>prevalentStroke</th>\n",
       "      <th>prevalentHyp</th>\n",
       "      <th>diabetes</th>\n",
       "      <th>totChol</th>\n",
       "      <th>sysBP</th>\n",
       "      <th>diaBP</th>\n",
       "      <th>BMI</th>\n",
       "      <th>heartRate</th>\n",
       "      <th>glucose</th>\n",
       "      <th>TenYearCHD</th>\n",
       "    </tr>\n",
       "  </thead>\n",
       "  <tbody>\n",
       "    <tr>\n",
       "      <th>male</th>\n",
       "      <td>1.000000</td>\n",
       "      <td>-0.029014</td>\n",
       "      <td>0.017415</td>\n",
       "      <td>0.197026</td>\n",
       "      <td>0.317143</td>\n",
       "      <td>-0.052504</td>\n",
       "      <td>-0.004550</td>\n",
       "      <td>0.005853</td>\n",
       "      <td>0.015693</td>\n",
       "      <td>-0.070413</td>\n",
       "      <td>-0.035879</td>\n",
       "      <td>0.058199</td>\n",
       "      <td>0.081871</td>\n",
       "      <td>-0.116932</td>\n",
       "      <td>0.005979</td>\n",
       "      <td>0.088374</td>\n",
       "    </tr>\n",
       "    <tr>\n",
       "      <th>age</th>\n",
       "      <td>-0.029014</td>\n",
       "      <td>1.000000</td>\n",
       "      <td>-0.166356</td>\n",
       "      <td>-0.213662</td>\n",
       "      <td>-0.192959</td>\n",
       "      <td>0.123052</td>\n",
       "      <td>0.057679</td>\n",
       "      <td>0.306799</td>\n",
       "      <td>0.101314</td>\n",
       "      <td>0.262554</td>\n",
       "      <td>0.394053</td>\n",
       "      <td>0.205586</td>\n",
       "      <td>0.136096</td>\n",
       "      <td>-0.012843</td>\n",
       "      <td>0.122356</td>\n",
       "      <td>0.225408</td>\n",
       "    </tr>\n",
       "    <tr>\n",
       "      <th>education</th>\n",
       "      <td>0.017415</td>\n",
       "      <td>-0.166356</td>\n",
       "      <td>1.000000</td>\n",
       "      <td>0.018528</td>\n",
       "      <td>0.008323</td>\n",
       "      <td>-0.010898</td>\n",
       "      <td>-0.035142</td>\n",
       "      <td>-0.081726</td>\n",
       "      <td>-0.038749</td>\n",
       "      <td>-0.023613</td>\n",
       "      <td>-0.129496</td>\n",
       "      <td>-0.061919</td>\n",
       "      <td>-0.137747</td>\n",
       "      <td>-0.054182</td>\n",
       "      <td>-0.035843</td>\n",
       "      <td>-0.054248</td>\n",
       "    </tr>\n",
       "    <tr>\n",
       "      <th>currentSmoker</th>\n",
       "      <td>0.197026</td>\n",
       "      <td>-0.213662</td>\n",
       "      <td>0.018528</td>\n",
       "      <td>1.000000</td>\n",
       "      <td>0.769774</td>\n",
       "      <td>-0.048927</td>\n",
       "      <td>-0.032980</td>\n",
       "      <td>-0.103710</td>\n",
       "      <td>-0.044285</td>\n",
       "      <td>-0.046488</td>\n",
       "      <td>-0.130281</td>\n",
       "      <td>-0.107933</td>\n",
       "      <td>-0.167857</td>\n",
       "      <td>0.062686</td>\n",
       "      <td>-0.056726</td>\n",
       "      <td>0.019448</td>\n",
       "    </tr>\n",
       "    <tr>\n",
       "      <th>cigsPerDay</th>\n",
       "      <td>0.317143</td>\n",
       "      <td>-0.192959</td>\n",
       "      <td>0.008323</td>\n",
       "      <td>0.769774</td>\n",
       "      <td>1.000000</td>\n",
       "      <td>-0.046155</td>\n",
       "      <td>-0.032711</td>\n",
       "      <td>-0.066645</td>\n",
       "      <td>-0.037089</td>\n",
       "      <td>-0.026479</td>\n",
       "      <td>-0.088797</td>\n",
       "      <td>-0.056715</td>\n",
       "      <td>-0.093293</td>\n",
       "      <td>0.075564</td>\n",
       "      <td>-0.058886</td>\n",
       "      <td>0.057755</td>\n",
       "    </tr>\n",
       "    <tr>\n",
       "      <th>BPMeds</th>\n",
       "      <td>-0.052504</td>\n",
       "      <td>0.123052</td>\n",
       "      <td>-0.010898</td>\n",
       "      <td>-0.048927</td>\n",
       "      <td>-0.046155</td>\n",
       "      <td>1.000000</td>\n",
       "      <td>0.117370</td>\n",
       "      <td>0.261067</td>\n",
       "      <td>0.052060</td>\n",
       "      <td>0.080623</td>\n",
       "      <td>0.254194</td>\n",
       "      <td>0.194122</td>\n",
       "      <td>0.100702</td>\n",
       "      <td>0.015230</td>\n",
       "      <td>0.051197</td>\n",
       "      <td>0.087519</td>\n",
       "    </tr>\n",
       "    <tr>\n",
       "      <th>prevalentStroke</th>\n",
       "      <td>-0.004550</td>\n",
       "      <td>0.057679</td>\n",
       "      <td>-0.035142</td>\n",
       "      <td>-0.032980</td>\n",
       "      <td>-0.032711</td>\n",
       "      <td>0.117370</td>\n",
       "      <td>1.000000</td>\n",
       "      <td>0.074791</td>\n",
       "      <td>0.006955</td>\n",
       "      <td>0.000105</td>\n",
       "      <td>0.057000</td>\n",
       "      <td>0.045153</td>\n",
       "      <td>0.025909</td>\n",
       "      <td>-0.017674</td>\n",
       "      <td>0.018440</td>\n",
       "      <td>0.061823</td>\n",
       "    </tr>\n",
       "    <tr>\n",
       "      <th>prevalentHyp</th>\n",
       "      <td>0.005853</td>\n",
       "      <td>0.306799</td>\n",
       "      <td>-0.081726</td>\n",
       "      <td>-0.103710</td>\n",
       "      <td>-0.066645</td>\n",
       "      <td>0.261067</td>\n",
       "      <td>0.074791</td>\n",
       "      <td>1.000000</td>\n",
       "      <td>0.077752</td>\n",
       "      <td>0.163632</td>\n",
       "      <td>0.696656</td>\n",
       "      <td>0.615840</td>\n",
       "      <td>0.301344</td>\n",
       "      <td>0.146815</td>\n",
       "      <td>0.086656</td>\n",
       "      <td>0.177458</td>\n",
       "    </tr>\n",
       "    <tr>\n",
       "      <th>diabetes</th>\n",
       "      <td>0.015693</td>\n",
       "      <td>0.101314</td>\n",
       "      <td>-0.038749</td>\n",
       "      <td>-0.044285</td>\n",
       "      <td>-0.037089</td>\n",
       "      <td>0.052060</td>\n",
       "      <td>0.006955</td>\n",
       "      <td>0.077752</td>\n",
       "      <td>1.000000</td>\n",
       "      <td>0.040348</td>\n",
       "      <td>0.111265</td>\n",
       "      <td>0.050260</td>\n",
       "      <td>0.087068</td>\n",
       "      <td>0.048986</td>\n",
       "      <td>0.617630</td>\n",
       "      <td>0.097344</td>\n",
       "    </tr>\n",
       "    <tr>\n",
       "      <th>totChol</th>\n",
       "      <td>-0.070413</td>\n",
       "      <td>0.262554</td>\n",
       "      <td>-0.023613</td>\n",
       "      <td>-0.046488</td>\n",
       "      <td>-0.026479</td>\n",
       "      <td>0.080623</td>\n",
       "      <td>0.000105</td>\n",
       "      <td>0.163632</td>\n",
       "      <td>0.040348</td>\n",
       "      <td>1.000000</td>\n",
       "      <td>0.208734</td>\n",
       "      <td>0.164698</td>\n",
       "      <td>0.115992</td>\n",
       "      <td>0.091127</td>\n",
       "      <td>0.046538</td>\n",
       "      <td>0.082369</td>\n",
       "    </tr>\n",
       "    <tr>\n",
       "      <th>sysBP</th>\n",
       "      <td>-0.035879</td>\n",
       "      <td>0.394053</td>\n",
       "      <td>-0.129496</td>\n",
       "      <td>-0.130281</td>\n",
       "      <td>-0.088797</td>\n",
       "      <td>0.254194</td>\n",
       "      <td>0.057000</td>\n",
       "      <td>0.696656</td>\n",
       "      <td>0.111265</td>\n",
       "      <td>0.208734</td>\n",
       "      <td>1.000000</td>\n",
       "      <td>0.783952</td>\n",
       "      <td>0.326906</td>\n",
       "      <td>0.182155</td>\n",
       "      <td>0.140573</td>\n",
       "      <td>0.216374</td>\n",
       "    </tr>\n",
       "    <tr>\n",
       "      <th>diaBP</th>\n",
       "      <td>0.058199</td>\n",
       "      <td>0.205586</td>\n",
       "      <td>-0.061919</td>\n",
       "      <td>-0.107933</td>\n",
       "      <td>-0.056715</td>\n",
       "      <td>0.194122</td>\n",
       "      <td>0.045153</td>\n",
       "      <td>0.615840</td>\n",
       "      <td>0.050260</td>\n",
       "      <td>0.164698</td>\n",
       "      <td>0.783952</td>\n",
       "      <td>1.000000</td>\n",
       "      <td>0.377360</td>\n",
       "      <td>0.181021</td>\n",
       "      <td>0.061075</td>\n",
       "      <td>0.145112</td>\n",
       "    </tr>\n",
       "    <tr>\n",
       "      <th>BMI</th>\n",
       "      <td>0.081871</td>\n",
       "      <td>0.136096</td>\n",
       "      <td>-0.137747</td>\n",
       "      <td>-0.167857</td>\n",
       "      <td>-0.093293</td>\n",
       "      <td>0.100702</td>\n",
       "      <td>0.025909</td>\n",
       "      <td>0.301344</td>\n",
       "      <td>0.087068</td>\n",
       "      <td>0.115992</td>\n",
       "      <td>0.326906</td>\n",
       "      <td>0.377360</td>\n",
       "      <td>1.000000</td>\n",
       "      <td>0.067451</td>\n",
       "      <td>0.087389</td>\n",
       "      <td>0.075300</td>\n",
       "    </tr>\n",
       "    <tr>\n",
       "      <th>heartRate</th>\n",
       "      <td>-0.116932</td>\n",
       "      <td>-0.012843</td>\n",
       "      <td>-0.054182</td>\n",
       "      <td>0.062686</td>\n",
       "      <td>0.075564</td>\n",
       "      <td>0.015230</td>\n",
       "      <td>-0.017674</td>\n",
       "      <td>0.146815</td>\n",
       "      <td>0.048986</td>\n",
       "      <td>0.091127</td>\n",
       "      <td>0.182155</td>\n",
       "      <td>0.181021</td>\n",
       "      <td>0.067451</td>\n",
       "      <td>1.000000</td>\n",
       "      <td>0.094546</td>\n",
       "      <td>0.022907</td>\n",
       "    </tr>\n",
       "    <tr>\n",
       "      <th>glucose</th>\n",
       "      <td>0.005979</td>\n",
       "      <td>0.122356</td>\n",
       "      <td>-0.035843</td>\n",
       "      <td>-0.056726</td>\n",
       "      <td>-0.058886</td>\n",
       "      <td>0.051197</td>\n",
       "      <td>0.018440</td>\n",
       "      <td>0.086656</td>\n",
       "      <td>0.617630</td>\n",
       "      <td>0.046538</td>\n",
       "      <td>0.140573</td>\n",
       "      <td>0.061075</td>\n",
       "      <td>0.087389</td>\n",
       "      <td>0.094546</td>\n",
       "      <td>1.000000</td>\n",
       "      <td>0.125590</td>\n",
       "    </tr>\n",
       "    <tr>\n",
       "      <th>TenYearCHD</th>\n",
       "      <td>0.088374</td>\n",
       "      <td>0.225408</td>\n",
       "      <td>-0.054248</td>\n",
       "      <td>0.019448</td>\n",
       "      <td>0.057755</td>\n",
       "      <td>0.087519</td>\n",
       "      <td>0.061823</td>\n",
       "      <td>0.177458</td>\n",
       "      <td>0.097344</td>\n",
       "      <td>0.082369</td>\n",
       "      <td>0.216374</td>\n",
       "      <td>0.145112</td>\n",
       "      <td>0.075300</td>\n",
       "      <td>0.022907</td>\n",
       "      <td>0.125590</td>\n",
       "      <td>1.000000</td>\n",
       "    </tr>\n",
       "  </tbody>\n",
       "</table>\n",
       "</div>"
      ],
      "text/plain": [
       "                     male       age  education  currentSmoker  cigsPerDay  \\\n",
       "male             1.000000 -0.029014   0.017415       0.197026    0.317143   \n",
       "age             -0.029014  1.000000  -0.166356      -0.213662   -0.192959   \n",
       "education        0.017415 -0.166356   1.000000       0.018528    0.008323   \n",
       "currentSmoker    0.197026 -0.213662   0.018528       1.000000    0.769774   \n",
       "cigsPerDay       0.317143 -0.192959   0.008323       0.769774    1.000000   \n",
       "BPMeds          -0.052504  0.123052  -0.010898      -0.048927   -0.046155   \n",
       "prevalentStroke -0.004550  0.057679  -0.035142      -0.032980   -0.032711   \n",
       "prevalentHyp     0.005853  0.306799  -0.081726      -0.103710   -0.066645   \n",
       "diabetes         0.015693  0.101314  -0.038749      -0.044285   -0.037089   \n",
       "totChol         -0.070413  0.262554  -0.023613      -0.046488   -0.026479   \n",
       "sysBP           -0.035879  0.394053  -0.129496      -0.130281   -0.088797   \n",
       "diaBP            0.058199  0.205586  -0.061919      -0.107933   -0.056715   \n",
       "BMI              0.081871  0.136096  -0.137747      -0.167857   -0.093293   \n",
       "heartRate       -0.116932 -0.012843  -0.054182       0.062686    0.075564   \n",
       "glucose          0.005979  0.122356  -0.035843      -0.056726   -0.058886   \n",
       "TenYearCHD       0.088374  0.225408  -0.054248       0.019448    0.057755   \n",
       "\n",
       "                   BPMeds  prevalentStroke  prevalentHyp  diabetes   totChol  \\\n",
       "male            -0.052504        -0.004550      0.005853  0.015693 -0.070413   \n",
       "age              0.123052         0.057679      0.306799  0.101314  0.262554   \n",
       "education       -0.010898        -0.035142     -0.081726 -0.038749 -0.023613   \n",
       "currentSmoker   -0.048927        -0.032980     -0.103710 -0.044285 -0.046488   \n",
       "cigsPerDay      -0.046155        -0.032711     -0.066645 -0.037089 -0.026479   \n",
       "BPMeds           1.000000         0.117370      0.261067  0.052060  0.080623   \n",
       "prevalentStroke  0.117370         1.000000      0.074791  0.006955  0.000105   \n",
       "prevalentHyp     0.261067         0.074791      1.000000  0.077752  0.163632   \n",
       "diabetes         0.052060         0.006955      0.077752  1.000000  0.040348   \n",
       "totChol          0.080623         0.000105      0.163632  0.040348  1.000000   \n",
       "sysBP            0.254194         0.057000      0.696656  0.111265  0.208734   \n",
       "diaBP            0.194122         0.045153      0.615840  0.050260  0.164698   \n",
       "BMI              0.100702         0.025909      0.301344  0.087068  0.115992   \n",
       "heartRate        0.015230        -0.017674      0.146815  0.048986  0.091127   \n",
       "glucose          0.051197         0.018440      0.086656  0.617630  0.046538   \n",
       "TenYearCHD       0.087519         0.061823      0.177458  0.097344  0.082369   \n",
       "\n",
       "                    sysBP     diaBP       BMI  heartRate   glucose  TenYearCHD  \n",
       "male            -0.035879  0.058199  0.081871  -0.116932  0.005979    0.088374  \n",
       "age              0.394053  0.205586  0.136096  -0.012843  0.122356    0.225408  \n",
       "education       -0.129496 -0.061919 -0.137747  -0.054182 -0.035843   -0.054248  \n",
       "currentSmoker   -0.130281 -0.107933 -0.167857   0.062686 -0.056726    0.019448  \n",
       "cigsPerDay      -0.088797 -0.056715 -0.093293   0.075564 -0.058886    0.057755  \n",
       "BPMeds           0.254194  0.194122  0.100702   0.015230  0.051197    0.087519  \n",
       "prevalentStroke  0.057000  0.045153  0.025909  -0.017674  0.018440    0.061823  \n",
       "prevalentHyp     0.696656  0.615840  0.301344   0.146815  0.086656    0.177458  \n",
       "diabetes         0.111265  0.050260  0.087068   0.048986  0.617630    0.097344  \n",
       "totChol          0.208734  0.164698  0.115992   0.091127  0.046538    0.082369  \n",
       "sysBP            1.000000  0.783952  0.326906   0.182155  0.140573    0.216374  \n",
       "diaBP            0.783952  1.000000  0.377360   0.181021  0.061075    0.145112  \n",
       "BMI              0.326906  0.377360  1.000000   0.067451  0.087389    0.075300  \n",
       "heartRate        0.182155  0.181021  0.067451   1.000000  0.094546    0.022907  \n",
       "glucose          0.140573  0.061075  0.087389   0.094546  1.000000    0.125590  \n",
       "TenYearCHD       0.216374  0.145112  0.075300   0.022907  0.125590    1.000000  "
      ]
     },
     "execution_count": 22,
     "metadata": {},
     "output_type": "execute_result"
    }
   ],
   "source": [
    "frK.corr()"
   ]
  },
  {
   "cell_type": "code",
   "execution_count": 23,
   "metadata": {
    "scrolled": true
   },
   "outputs": [
    {
     "data": {
      "image/png": "[encoded data removed]",
      "text/plain": [
       "<Figure size 1080x360 with 2 Axes>"
      ]
     },
     "metadata": {},
     "output_type": "display_data"
    }
   ],
   "source": [
    "plt.figure(figsize=(15,5))\n",
    "heatmapK = sns.heatmap(frK.corr(), annot = True)"
   ]
  },
  {
   "cell_type": "markdown",
   "metadata": {},
   "source": [
    "---\n",
    "\n",
    "Notebook developed by: Susan Wang and Almudena Konrad"
   ]
  }
 ],
 "metadata": {
  "kernelspec": {
   "display_name": "Python 3",
   "language": "python",
   "name": "python3"
  },
  "language_info": {
   "codemirror_mode": {
    "name": "ipython",
    "version": 3
   },
   "file_extension": ".py",
   "mimetype": "text/x-python",
   "name": "python",
   "nbconvert_exporter": "python",
   "pygments_lexer": "ipython3",
   "version": "3.8.5"
  }
 },
 "nbformat": 4,
 "nbformat_minor": 4
}
